{
  "cells": [
    {
      "cell_type": "markdown",
      "id": "18c8cacb-8034-40e7-9911-d9d2ad197b5a",
      "metadata": {
        "id": "18c8cacb-8034-40e7-9911-d9d2ad197b5a"
      },
      "source": [
        "# CASE STUDY\n",
        "    Problem Statement: Develop a predictive model to estimate the price of a vehicle based on the provided features."
      ]
    },
    {
      "cell_type": "markdown",
      "id": "bb9bc1dc-1e51-4674-95e9-da65808b717a",
      "metadata": {
        "id": "bb9bc1dc-1e51-4674-95e9-da65808b717a"
      },
      "source": [
        "# Data Cleaning & Preprocessing:\n",
        "    Handle missing values appropriately.\n",
        "    Encode categorical variables.\n",
        "    Normalize/standardize numerical features if necessary."
      ]
    },
    {
      "cell_type": "code",
      "execution_count": null,
      "id": "bfd07e08-03eb-4ded-9558-0a69612a0bb0",
      "metadata": {
        "id": "bfd07e08-03eb-4ded-9558-0a69612a0bb0"
      },
      "outputs": [],
      "source": [
        "import pandas as pd\n",
        "import numpy as np\n",
        "import matplotlib.pyplot as plt\n",
        "import seaborn as sns\n",
        "from sklearn.impute import SimpleImputer\n",
        "from sklearn.preprocessing import LabelEncoder\n",
        "from sklearn import metrics\n",
        "from sklearn.preprocessing import PolynomialFeatures\n",
        "from sklearn.linear_model import Lasso"
      ]
    },
    {
      "cell_type": "code",
      "execution_count": null,
      "id": "4096b090-4bb7-4405-9921-de561d50a0d0",
      "metadata": {
        "id": "4096b090-4bb7-4405-9921-de561d50a0d0"
      },
      "outputs": [],
      "source": [
        "df = pd.read_csv('vehicles.csv')"
      ]
    },
    {
      "cell_type": "code",
      "execution_count": null,
      "id": "31ed3f57-ba69-4380-b28d-7e5898726d16",
      "metadata": {
        "id": "31ed3f57-ba69-4380-b28d-7e5898726d16",
        "outputId": "aaa6e0e3-1479-47c4-d683-0b22a0b9e771"
      },
      "outputs": [
        {
          "data": {
            "text/html": [
              "<div>\n",
              "<style scoped>\n",
              "    .dataframe tbody tr th:only-of-type {\n",
              "        vertical-align: middle;\n",
              "    }\n",
              "\n",
              "    .dataframe tbody tr th {\n",
              "        vertical-align: top;\n",
              "    }\n",
              "\n",
              "    .dataframe thead th {\n",
              "        text-align: right;\n",
              "    }\n",
              "</style>\n",
              "<table border=\"1\" class=\"dataframe\">\n",
              "  <thead>\n",
              "    <tr style=\"text-align: right;\">\n",
              "      <th></th>\n",
              "      <th>ad_title</th>\n",
              "      <th>ad_description</th>\n",
              "      <th>details</th>\n",
              "      <th>slug</th>\n",
              "      <th>title</th>\n",
              "      <th>type</th>\n",
              "      <th>price</th>\n",
              "      <th>timestamp</th>\n",
              "      <th>posted_date</th>\n",
              "      <th>deactivation_date</th>\n",
              "      <th>...</th>\n",
              "      <th>is_doorstep_delivery</th>\n",
              "      <th>is_dsd_applicable</th>\n",
              "      <th>is_member</th>\n",
              "      <th>is_authorized_dealer</th>\n",
              "      <th>is_featured_member</th>\n",
              "      <th>is_verified</th>\n",
              "      <th>membership_level</th>\n",
              "      <th>member_since</th>\n",
              "      <th>properties</th>\n",
              "      <th>user</th>\n",
              "    </tr>\n",
              "  </thead>\n",
              "  <tbody>\n",
              "    <tr>\n",
              "      <th>0</th>\n",
              "      <td>Nissan Tiida Alternator  in Maharagama | ikman</td>\n",
              "      <td>**TISSA AUTO PARTS** Dealer of used Japanese m...</td>\n",
              "      <td>NaN</td>\n",
              "      <td>nissan-tiida-alternator-for-sale-colombo-3</td>\n",
              "      <td>Nissan Tiida Alternator</td>\n",
              "      <td>for_sale</td>\n",
              "      <td>Rs 18,000</td>\n",
              "      <td>23 Feb 11:35 pm</td>\n",
              "      <td>2023-02-23T23:35:10+05:30</td>\n",
              "      <td>2022-05-30T17:13:04.000Z</td>\n",
              "      <td>...</td>\n",
              "      <td>False</td>\n",
              "      <td>False</td>\n",
              "      <td>True</td>\n",
              "      <td>False</td>\n",
              "      <td>False</td>\n",
              "      <td>True</td>\n",
              "      <td>premium</td>\n",
              "      <td>September 2019</td>\n",
              "      <td>{'Condition': 'Reconditioned', 'Part or Access...</td>\n",
              "      <td>a6681dea494390daa516a6d2bdcb36e08c318574a13413...</td>\n",
              "    </tr>\n",
              "    <tr>\n",
              "      <th>1</th>\n",
              "      <td>Axio 165 Tail Light  in Kotte | ikman</td>\n",
              "      <td>Imported from Japan \\n\\nRight side available \\...</td>\n",
              "      <td>NaN</td>\n",
              "      <td>axio-165-tail-light-for-sale-colombo-14</td>\n",
              "      <td>Axio 165 Tail Light</td>\n",
              "      <td>for_sale</td>\n",
              "      <td>Rs 67,000</td>\n",
              "      <td>23 Feb 8:32 am</td>\n",
              "      <td>2023-02-23T08:32:44+05:30</td>\n",
              "      <td>2022-03-31T16:27:59.000Z</td>\n",
              "      <td>...</td>\n",
              "      <td>False</td>\n",
              "      <td>False</td>\n",
              "      <td>True</td>\n",
              "      <td>False</td>\n",
              "      <td>False</td>\n",
              "      <td>True</td>\n",
              "      <td>plus</td>\n",
              "      <td>June 2018</td>\n",
              "      <td>{'Condition': 'Reconditioned', 'Part or Access...</td>\n",
              "      <td>5d99b8e45a1bb318079da7a36392d9025e1644cb49ecbf...</td>\n",
              "    </tr>\n",
              "    <tr>\n",
              "      <th>2</th>\n",
              "      <td>Axio 165 / 161 Head light  in Kotte | ikman.lk</td>\n",
              "      <td>Imported from Japan \\n\\nAuto focus headlight a...</td>\n",
              "      <td>NaN</td>\n",
              "      <td>axio-165-161-head-light-for-sale-colombo</td>\n",
              "      <td>Axio 165 / 161 Head light</td>\n",
              "      <td>for_sale</td>\n",
              "      <td>Rs 85,000</td>\n",
              "      <td>01 Dec 8:27 pm</td>\n",
              "      <td>2022-12-01T20:27:49+05:30</td>\n",
              "      <td>2022-03-31T14:03:57.000Z</td>\n",
              "      <td>...</td>\n",
              "      <td>False</td>\n",
              "      <td>False</td>\n",
              "      <td>True</td>\n",
              "      <td>False</td>\n",
              "      <td>False</td>\n",
              "      <td>True</td>\n",
              "      <td>plus</td>\n",
              "      <td>June 2018</td>\n",
              "      <td>{'Condition': 'Reconditioned', 'Part or Access...</td>\n",
              "      <td>5d99b8e45a1bb318079da7a36392d9025e1644cb49ecbf...</td>\n",
              "    </tr>\n",
              "    <tr>\n",
              "      <th>3</th>\n",
              "      <td>Vigo side step ( Foot board)  in Kottawa | ikman</td>\n",
              "      <td>Hilux Vigo side step\\nBrand New Thaiwan\\nGood ...</td>\n",
              "      <td>NaN</td>\n",
              "      <td>vigo-side-step-foot-board-for-sale-colombo</td>\n",
              "      <td>Vigo side step ( Foot board)</td>\n",
              "      <td>for_sale</td>\n",
              "      <td>Rs 47,000</td>\n",
              "      <td>04 Dec 2:47 pm</td>\n",
              "      <td>2022-12-04T14:47:27+05:30</td>\n",
              "      <td>2022-07-29T13:22:59.000Z</td>\n",
              "      <td>...</td>\n",
              "      <td>False</td>\n",
              "      <td>False</td>\n",
              "      <td>True</td>\n",
              "      <td>False</td>\n",
              "      <td>False</td>\n",
              "      <td>False</td>\n",
              "      <td>plus</td>\n",
              "      <td>February 2017</td>\n",
              "      <td>{'Condition': 'New', 'Part or Accessory Type':...</td>\n",
              "      <td>634d93e14a62d9de7b400ee3679ae1d5506f4252ff0580...</td>\n",
              "    </tr>\n",
              "    <tr>\n",
              "      <th>4</th>\n",
              "      <td>Vigo Dickey Door Garnish Cover  in Kottawa | i...</td>\n",
              "      <td>Hilux Vigo ( 2005, 2009 ) dickey door garnish set</td>\n",
              "      <td>NaN</td>\n",
              "      <td>vigo-dickey-door-garnish-cover-for-sale-colombo-1</td>\n",
              "      <td>Vigo Dickey Door Garnish Cover</td>\n",
              "      <td>for_sale</td>\n",
              "      <td>Rs 9,000</td>\n",
              "      <td>08 Dec 9:28 am</td>\n",
              "      <td>2022-12-08T09:28:04+05:30</td>\n",
              "      <td>2022-07-29T12:55:44.000Z</td>\n",
              "      <td>...</td>\n",
              "      <td>False</td>\n",
              "      <td>False</td>\n",
              "      <td>True</td>\n",
              "      <td>False</td>\n",
              "      <td>False</td>\n",
              "      <td>False</td>\n",
              "      <td>plus</td>\n",
              "      <td>February 2017</td>\n",
              "      <td>{'Condition': 'New', 'Part or Accessory Type':...</td>\n",
              "      <td>634d93e14a62d9de7b400ee3679ae1d5506f4252ff0580...</td>\n",
              "    </tr>\n",
              "  </tbody>\n",
              "</table>\n",
              "<p>5 rows × 26 columns</p>\n",
              "</div>"
            ],
            "text/plain": [
              "                                            ad_title  \\\n",
              "0     Nissan Tiida Alternator  in Maharagama | ikman   \n",
              "1              Axio 165 Tail Light  in Kotte | ikman   \n",
              "2     Axio 165 / 161 Head light  in Kotte | ikman.lk   \n",
              "3   Vigo side step ( Foot board)  in Kottawa | ikman   \n",
              "4  Vigo Dickey Door Garnish Cover  in Kottawa | i...   \n",
              "\n",
              "                                      ad_description details  \\\n",
              "0  **TISSA AUTO PARTS** Dealer of used Japanese m...     NaN   \n",
              "1  Imported from Japan \\n\\nRight side available \\...     NaN   \n",
              "2  Imported from Japan \\n\\nAuto focus headlight a...     NaN   \n",
              "3  Hilux Vigo side step\\nBrand New Thaiwan\\nGood ...     NaN   \n",
              "4  Hilux Vigo ( 2005, 2009 ) dickey door garnish set     NaN   \n",
              "\n",
              "                                                slug  \\\n",
              "0         nissan-tiida-alternator-for-sale-colombo-3   \n",
              "1            axio-165-tail-light-for-sale-colombo-14   \n",
              "2           axio-165-161-head-light-for-sale-colombo   \n",
              "3         vigo-side-step-foot-board-for-sale-colombo   \n",
              "4  vigo-dickey-door-garnish-cover-for-sale-colombo-1   \n",
              "\n",
              "                            title      type      price        timestamp  \\\n",
              "0         Nissan Tiida Alternator  for_sale  Rs 18,000  23 Feb 11:35 pm   \n",
              "1             Axio 165 Tail Light  for_sale  Rs 67,000   23 Feb 8:32 am   \n",
              "2       Axio 165 / 161 Head light  for_sale  Rs 85,000   01 Dec 8:27 pm   \n",
              "3    Vigo side step ( Foot board)  for_sale  Rs 47,000   04 Dec 2:47 pm   \n",
              "4  Vigo Dickey Door Garnish Cover  for_sale   Rs 9,000   08 Dec 9:28 am   \n",
              "\n",
              "                 posted_date         deactivation_date  ...  \\\n",
              "0  2023-02-23T23:35:10+05:30  2022-05-30T17:13:04.000Z  ...   \n",
              "1  2023-02-23T08:32:44+05:30  2022-03-31T16:27:59.000Z  ...   \n",
              "2  2022-12-01T20:27:49+05:30  2022-03-31T14:03:57.000Z  ...   \n",
              "3  2022-12-04T14:47:27+05:30  2022-07-29T13:22:59.000Z  ...   \n",
              "4  2022-12-08T09:28:04+05:30  2022-07-29T12:55:44.000Z  ...   \n",
              "\n",
              "  is_doorstep_delivery is_dsd_applicable is_member is_authorized_dealer  \\\n",
              "0                False             False      True                False   \n",
              "1                False             False      True                False   \n",
              "2                False             False      True                False   \n",
              "3                False             False      True                False   \n",
              "4                False             False      True                False   \n",
              "\n",
              "  is_featured_member  is_verified  membership_level    member_since  \\\n",
              "0              False         True           premium  September 2019   \n",
              "1              False         True              plus       June 2018   \n",
              "2              False         True              plus       June 2018   \n",
              "3              False        False              plus   February 2017   \n",
              "4              False        False              plus   February 2017   \n",
              "\n",
              "                                          properties  \\\n",
              "0  {'Condition': 'Reconditioned', 'Part or Access...   \n",
              "1  {'Condition': 'Reconditioned', 'Part or Access...   \n",
              "2  {'Condition': 'Reconditioned', 'Part or Access...   \n",
              "3  {'Condition': 'New', 'Part or Accessory Type':...   \n",
              "4  {'Condition': 'New', 'Part or Accessory Type':...   \n",
              "\n",
              "                                                user  \n",
              "0  a6681dea494390daa516a6d2bdcb36e08c318574a13413...  \n",
              "1  5d99b8e45a1bb318079da7a36392d9025e1644cb49ecbf...  \n",
              "2  5d99b8e45a1bb318079da7a36392d9025e1644cb49ecbf...  \n",
              "3  634d93e14a62d9de7b400ee3679ae1d5506f4252ff0580...  \n",
              "4  634d93e14a62d9de7b400ee3679ae1d5506f4252ff0580...  \n",
              "\n",
              "[5 rows x 26 columns]"
            ]
          },
          "execution_count": 4,
          "metadata": {},
          "output_type": "execute_result"
        }
      ],
      "source": [
        "df.head()"
      ]
    },
    {
      "cell_type": "code",
      "execution_count": null,
      "id": "9b781b56-593d-4688-9fa6-eaea847d6d4b",
      "metadata": {
        "id": "9b781b56-593d-4688-9fa6-eaea847d6d4b",
        "outputId": "bd411ed7-77c7-486c-c92a-4244b1f14279"
      },
      "outputs": [
        {
          "name": "stdout",
          "output_type": "stream",
          "text": [
            "<class 'pandas.core.frame.DataFrame'>\n",
            "RangeIndex: 258888 entries, 0 to 258887\n",
            "Data columns (total 26 columns):\n",
            " #   Column                Non-Null Count   Dtype \n",
            "---  ------                --------------   ----- \n",
            " 0   ad_title              258888 non-null  object\n",
            " 1   ad_description        258881 non-null  object\n",
            " 2   details               155505 non-null  object\n",
            " 3   slug                  258888 non-null  object\n",
            " 4   title                 258888 non-null  object\n",
            " 5   type                  258888 non-null  object\n",
            " 6   price                 255077 non-null  object\n",
            " 7   timestamp             258882 non-null  object\n",
            " 8   posted_date           258882 non-null  object\n",
            " 9   deactivation_date     258882 non-null  object\n",
            " 10  category              258888 non-null  object\n",
            " 11  parent_category       258888 non-null  object\n",
            " 12  location              258888 non-null  object\n",
            " 13  geo_region            258888 non-null  object\n",
            " 14  area                  258888 non-null  object\n",
            " 15  is_delivery_free      258888 non-null  bool  \n",
            " 16  is_doorstep_delivery  258888 non-null  bool  \n",
            " 17  is_dsd_applicable     258888 non-null  bool  \n",
            " 18  is_member             249838 non-null  object\n",
            " 19  is_authorized_dealer  249838 non-null  object\n",
            " 20  is_featured_member    249838 non-null  object\n",
            " 21  is_verified           258888 non-null  bool  \n",
            " 22  membership_level      258888 non-null  object\n",
            " 23  member_since          108634 non-null  object\n",
            " 24  properties            258888 non-null  object\n",
            " 25  user                  258888 non-null  object\n",
            "dtypes: bool(4), object(22)\n",
            "memory usage: 44.4+ MB\n"
          ]
        }
      ],
      "source": [
        "df.info()"
      ]
    },
    {
      "cell_type": "code",
      "execution_count": null,
      "id": "c529e883-4ca3-4308-bd0c-7090214db518",
      "metadata": {
        "id": "c529e883-4ca3-4308-bd0c-7090214db518",
        "outputId": "422d9087-0050-4886-f395-17f8e3327a4b"
      },
      "outputs": [
        {
          "data": {
            "text/plain": [
              "(258888, 26)"
            ]
          },
          "execution_count": 6,
          "metadata": {},
          "output_type": "execute_result"
        }
      ],
      "source": [
        "df.shape"
      ]
    },
    {
      "cell_type": "code",
      "execution_count": null,
      "id": "cf60a367-6489-446f-877e-5fa77014a6cc",
      "metadata": {
        "id": "cf60a367-6489-446f-877e-5fa77014a6cc",
        "outputId": "adfb51f0-f6ff-46ca-d82e-f4d03af6ee10"
      },
      "outputs": [
        {
          "data": {
            "text/html": [
              "<div>\n",
              "<style scoped>\n",
              "    .dataframe tbody tr th:only-of-type {\n",
              "        vertical-align: middle;\n",
              "    }\n",
              "\n",
              "    .dataframe tbody tr th {\n",
              "        vertical-align: top;\n",
              "    }\n",
              "\n",
              "    .dataframe thead th {\n",
              "        text-align: right;\n",
              "    }\n",
              "</style>\n",
              "<table border=\"1\" class=\"dataframe\">\n",
              "  <thead>\n",
              "    <tr style=\"text-align: right;\">\n",
              "      <th></th>\n",
              "      <th>ad_title</th>\n",
              "      <th>ad_description</th>\n",
              "      <th>details</th>\n",
              "      <th>slug</th>\n",
              "      <th>title</th>\n",
              "      <th>type</th>\n",
              "      <th>price</th>\n",
              "      <th>timestamp</th>\n",
              "      <th>posted_date</th>\n",
              "      <th>deactivation_date</th>\n",
              "      <th>category</th>\n",
              "      <th>parent_category</th>\n",
              "      <th>location</th>\n",
              "      <th>geo_region</th>\n",
              "      <th>area</th>\n",
              "      <th>is_delivery_free</th>\n",
              "      <th>is_doorstep_delivery</th>\n",
              "      <th>is_dsd_applicable</th>\n",
              "      <th>is_member</th>\n",
              "      <th>is_authorized_dealer</th>\n",
              "      <th>is_featured_member</th>\n",
              "      <th>is_verified</th>\n",
              "      <th>membership_level</th>\n",
              "      <th>member_since</th>\n",
              "      <th>properties</th>\n",
              "      <th>user</th>\n",
              "    </tr>\n",
              "  </thead>\n",
              "  <tbody>\n",
              "    <tr>\n",
              "      <th>0</th>\n",
              "      <td>Nissan Tiida Alternator  in Maharagama | ikman</td>\n",
              "      <td>**TISSA AUTO PARTS** Dealer of used Japanese m...</td>\n",
              "      <td>NaN</td>\n",
              "      <td>nissan-tiida-alternator-for-sale-colombo-3</td>\n",
              "      <td>Nissan Tiida Alternator</td>\n",
              "      <td>for_sale</td>\n",
              "      <td>Rs 18,000</td>\n",
              "      <td>23 Feb 11:35 pm</td>\n",
              "      <td>2023-02-23T23:35:10+05:30</td>\n",
              "      <td>2022-05-30T17:13:04.000Z</td>\n",
              "      <td>Auto Parts &amp; Accessories</td>\n",
              "      <td>Vehicles</td>\n",
              "      <td>Maharagama</td>\n",
              "      <td>LK-11</td>\n",
              "      <td>{'id': 1506, 'name': 'Colombo'}</td>\n",
              "      <td>False</td>\n",
              "      <td>False</td>\n",
              "      <td>False</td>\n",
              "      <td>True</td>\n",
              "      <td>False</td>\n",
              "      <td>False</td>\n",
              "      <td>True</td>\n",
              "      <td>premium</td>\n",
              "      <td>September 2019</td>\n",
              "      <td>{'Condition': 'Reconditioned', 'Part or Access...</td>\n",
              "      <td>a6681dea494390daa516a6d2bdcb36e08c318574a13413...</td>\n",
              "    </tr>\n",
              "    <tr>\n",
              "      <th>1</th>\n",
              "      <td>Axio 165 Tail Light  in Kotte | ikman</td>\n",
              "      <td>Imported from Japan \\n\\nRight side available \\...</td>\n",
              "      <td>NaN</td>\n",
              "      <td>axio-165-tail-light-for-sale-colombo-14</td>\n",
              "      <td>Axio 165 Tail Light</td>\n",
              "      <td>for_sale</td>\n",
              "      <td>Rs 67,000</td>\n",
              "      <td>23 Feb 8:32 am</td>\n",
              "      <td>2023-02-23T08:32:44+05:30</td>\n",
              "      <td>2022-03-31T16:27:59.000Z</td>\n",
              "      <td>Auto Parts &amp; Accessories</td>\n",
              "      <td>Vehicles</td>\n",
              "      <td>Kotte</td>\n",
              "      <td>LK-11</td>\n",
              "      <td>{'id': 1506, 'name': 'Colombo'}</td>\n",
              "      <td>False</td>\n",
              "      <td>False</td>\n",
              "      <td>False</td>\n",
              "      <td>True</td>\n",
              "      <td>False</td>\n",
              "      <td>False</td>\n",
              "      <td>True</td>\n",
              "      <td>plus</td>\n",
              "      <td>June 2018</td>\n",
              "      <td>{'Condition': 'Reconditioned', 'Part or Access...</td>\n",
              "      <td>5d99b8e45a1bb318079da7a36392d9025e1644cb49ecbf...</td>\n",
              "    </tr>\n",
              "    <tr>\n",
              "      <th>2</th>\n",
              "      <td>Axio 165 / 161 Head light  in Kotte | ikman.lk</td>\n",
              "      <td>Imported from Japan \\n\\nAuto focus headlight a...</td>\n",
              "      <td>NaN</td>\n",
              "      <td>axio-165-161-head-light-for-sale-colombo</td>\n",
              "      <td>Axio 165 / 161 Head light</td>\n",
              "      <td>for_sale</td>\n",
              "      <td>Rs 85,000</td>\n",
              "      <td>01 Dec 8:27 pm</td>\n",
              "      <td>2022-12-01T20:27:49+05:30</td>\n",
              "      <td>2022-03-31T14:03:57.000Z</td>\n",
              "      <td>Auto Parts &amp; Accessories</td>\n",
              "      <td>Vehicles</td>\n",
              "      <td>Kotte</td>\n",
              "      <td>LK-11</td>\n",
              "      <td>{'id': 1506, 'name': 'Colombo'}</td>\n",
              "      <td>False</td>\n",
              "      <td>False</td>\n",
              "      <td>False</td>\n",
              "      <td>True</td>\n",
              "      <td>False</td>\n",
              "      <td>False</td>\n",
              "      <td>True</td>\n",
              "      <td>plus</td>\n",
              "      <td>June 2018</td>\n",
              "      <td>{'Condition': 'Reconditioned', 'Part or Access...</td>\n",
              "      <td>5d99b8e45a1bb318079da7a36392d9025e1644cb49ecbf...</td>\n",
              "    </tr>\n",
              "    <tr>\n",
              "      <th>3</th>\n",
              "      <td>Vigo side step ( Foot board)  in Kottawa | ikman</td>\n",
              "      <td>Hilux Vigo side step\\nBrand New Thaiwan\\nGood ...</td>\n",
              "      <td>NaN</td>\n",
              "      <td>vigo-side-step-foot-board-for-sale-colombo</td>\n",
              "      <td>Vigo side step ( Foot board)</td>\n",
              "      <td>for_sale</td>\n",
              "      <td>Rs 47,000</td>\n",
              "      <td>04 Dec 2:47 pm</td>\n",
              "      <td>2022-12-04T14:47:27+05:30</td>\n",
              "      <td>2022-07-29T13:22:59.000Z</td>\n",
              "      <td>Auto Parts &amp; Accessories</td>\n",
              "      <td>Vehicles</td>\n",
              "      <td>Kottawa</td>\n",
              "      <td>LK-11</td>\n",
              "      <td>{'id': 1506, 'name': 'Colombo'}</td>\n",
              "      <td>False</td>\n",
              "      <td>False</td>\n",
              "      <td>False</td>\n",
              "      <td>True</td>\n",
              "      <td>False</td>\n",
              "      <td>False</td>\n",
              "      <td>False</td>\n",
              "      <td>plus</td>\n",
              "      <td>February 2017</td>\n",
              "      <td>{'Condition': 'New', 'Part or Accessory Type':...</td>\n",
              "      <td>634d93e14a62d9de7b400ee3679ae1d5506f4252ff0580...</td>\n",
              "    </tr>\n",
              "    <tr>\n",
              "      <th>4</th>\n",
              "      <td>Vigo Dickey Door Garnish Cover  in Kottawa | i...</td>\n",
              "      <td>Hilux Vigo ( 2005, 2009 ) dickey door garnish set</td>\n",
              "      <td>NaN</td>\n",
              "      <td>vigo-dickey-door-garnish-cover-for-sale-colombo-1</td>\n",
              "      <td>Vigo Dickey Door Garnish Cover</td>\n",
              "      <td>for_sale</td>\n",
              "      <td>Rs 9,000</td>\n",
              "      <td>08 Dec 9:28 am</td>\n",
              "      <td>2022-12-08T09:28:04+05:30</td>\n",
              "      <td>2022-07-29T12:55:44.000Z</td>\n",
              "      <td>Auto Parts &amp; Accessories</td>\n",
              "      <td>Vehicles</td>\n",
              "      <td>Kottawa</td>\n",
              "      <td>LK-11</td>\n",
              "      <td>{'id': 1506, 'name': 'Colombo'}</td>\n",
              "      <td>False</td>\n",
              "      <td>False</td>\n",
              "      <td>False</td>\n",
              "      <td>True</td>\n",
              "      <td>False</td>\n",
              "      <td>False</td>\n",
              "      <td>False</td>\n",
              "      <td>plus</td>\n",
              "      <td>February 2017</td>\n",
              "      <td>{'Condition': 'New', 'Part or Accessory Type':...</td>\n",
              "      <td>634d93e14a62d9de7b400ee3679ae1d5506f4252ff0580...</td>\n",
              "    </tr>\n",
              "  </tbody>\n",
              "</table>\n",
              "</div>"
            ],
            "text/plain": [
              "                                            ad_title  \\\n",
              "0     Nissan Tiida Alternator  in Maharagama | ikman   \n",
              "1              Axio 165 Tail Light  in Kotte | ikman   \n",
              "2     Axio 165 / 161 Head light  in Kotte | ikman.lk   \n",
              "3   Vigo side step ( Foot board)  in Kottawa | ikman   \n",
              "4  Vigo Dickey Door Garnish Cover  in Kottawa | i...   \n",
              "\n",
              "                                      ad_description details  \\\n",
              "0  **TISSA AUTO PARTS** Dealer of used Japanese m...     NaN   \n",
              "1  Imported from Japan \\n\\nRight side available \\...     NaN   \n",
              "2  Imported from Japan \\n\\nAuto focus headlight a...     NaN   \n",
              "3  Hilux Vigo side step\\nBrand New Thaiwan\\nGood ...     NaN   \n",
              "4  Hilux Vigo ( 2005, 2009 ) dickey door garnish set     NaN   \n",
              "\n",
              "                                                slug  \\\n",
              "0         nissan-tiida-alternator-for-sale-colombo-3   \n",
              "1            axio-165-tail-light-for-sale-colombo-14   \n",
              "2           axio-165-161-head-light-for-sale-colombo   \n",
              "3         vigo-side-step-foot-board-for-sale-colombo   \n",
              "4  vigo-dickey-door-garnish-cover-for-sale-colombo-1   \n",
              "\n",
              "                            title      type      price        timestamp  \\\n",
              "0         Nissan Tiida Alternator  for_sale  Rs 18,000  23 Feb 11:35 pm   \n",
              "1             Axio 165 Tail Light  for_sale  Rs 67,000   23 Feb 8:32 am   \n",
              "2       Axio 165 / 161 Head light  for_sale  Rs 85,000   01 Dec 8:27 pm   \n",
              "3    Vigo side step ( Foot board)  for_sale  Rs 47,000   04 Dec 2:47 pm   \n",
              "4  Vigo Dickey Door Garnish Cover  for_sale   Rs 9,000   08 Dec 9:28 am   \n",
              "\n",
              "                 posted_date         deactivation_date  \\\n",
              "0  2023-02-23T23:35:10+05:30  2022-05-30T17:13:04.000Z   \n",
              "1  2023-02-23T08:32:44+05:30  2022-03-31T16:27:59.000Z   \n",
              "2  2022-12-01T20:27:49+05:30  2022-03-31T14:03:57.000Z   \n",
              "3  2022-12-04T14:47:27+05:30  2022-07-29T13:22:59.000Z   \n",
              "4  2022-12-08T09:28:04+05:30  2022-07-29T12:55:44.000Z   \n",
              "\n",
              "                   category parent_category    location geo_region  \\\n",
              "0  Auto Parts & Accessories        Vehicles  Maharagama      LK-11   \n",
              "1  Auto Parts & Accessories        Vehicles       Kotte      LK-11   \n",
              "2  Auto Parts & Accessories        Vehicles       Kotte      LK-11   \n",
              "3  Auto Parts & Accessories        Vehicles     Kottawa      LK-11   \n",
              "4  Auto Parts & Accessories        Vehicles     Kottawa      LK-11   \n",
              "\n",
              "                              area  is_delivery_free  is_doorstep_delivery  \\\n",
              "0  {'id': 1506, 'name': 'Colombo'}             False                 False   \n",
              "1  {'id': 1506, 'name': 'Colombo'}             False                 False   \n",
              "2  {'id': 1506, 'name': 'Colombo'}             False                 False   \n",
              "3  {'id': 1506, 'name': 'Colombo'}             False                 False   \n",
              "4  {'id': 1506, 'name': 'Colombo'}             False                 False   \n",
              "\n",
              "   is_dsd_applicable is_member is_authorized_dealer is_featured_member  \\\n",
              "0              False      True                False              False   \n",
              "1              False      True                False              False   \n",
              "2              False      True                False              False   \n",
              "3              False      True                False              False   \n",
              "4              False      True                False              False   \n",
              "\n",
              "   is_verified membership_level    member_since  \\\n",
              "0         True          premium  September 2019   \n",
              "1         True             plus       June 2018   \n",
              "2         True             plus       June 2018   \n",
              "3        False             plus   February 2017   \n",
              "4        False             plus   February 2017   \n",
              "\n",
              "                                          properties  \\\n",
              "0  {'Condition': 'Reconditioned', 'Part or Access...   \n",
              "1  {'Condition': 'Reconditioned', 'Part or Access...   \n",
              "2  {'Condition': 'Reconditioned', 'Part or Access...   \n",
              "3  {'Condition': 'New', 'Part or Accessory Type':...   \n",
              "4  {'Condition': 'New', 'Part or Accessory Type':...   \n",
              "\n",
              "                                                user  \n",
              "0  a6681dea494390daa516a6d2bdcb36e08c318574a13413...  \n",
              "1  5d99b8e45a1bb318079da7a36392d9025e1644cb49ecbf...  \n",
              "2  5d99b8e45a1bb318079da7a36392d9025e1644cb49ecbf...  \n",
              "3  634d93e14a62d9de7b400ee3679ae1d5506f4252ff0580...  \n",
              "4  634d93e14a62d9de7b400ee3679ae1d5506f4252ff0580...  "
            ]
          },
          "execution_count": 7,
          "metadata": {},
          "output_type": "execute_result"
        }
      ],
      "source": [
        "pd.set_option('display.max_columns',None)\n",
        "df.head()"
      ]
    },
    {
      "cell_type": "code",
      "execution_count": null,
      "id": "3feca4b4-2bfb-4187-8c21-7cd42cd73932",
      "metadata": {
        "id": "3feca4b4-2bfb-4187-8c21-7cd42cd73932"
      },
      "outputs": [],
      "source": [
        "df.dropna(subset=['ad_description','timestamp','posted_date','deactivation_date'],inplace=True)"
      ]
    },
    {
      "cell_type": "code",
      "execution_count": null,
      "id": "c4245e3b-15f8-4f27-a679-3f75761f0410",
      "metadata": {
        "id": "c4245e3b-15f8-4f27-a679-3f75761f0410",
        "outputId": "25fdcaeb-10c0-4271-80bd-e8f25a7ed58e"
      },
      "outputs": [
        {
          "data": {
            "text/plain": [
              "ad_title                     0\n",
              "ad_description               0\n",
              "details                 103382\n",
              "slug                         0\n",
              "title                        0\n",
              "type                         0\n",
              "price                     3811\n",
              "timestamp                    0\n",
              "posted_date                  0\n",
              "deactivation_date            0\n",
              "category                     0\n",
              "parent_category              0\n",
              "location                     0\n",
              "geo_region                   0\n",
              "area                         0\n",
              "is_delivery_free             0\n",
              "is_doorstep_delivery         0\n",
              "is_dsd_applicable            0\n",
              "is_member                 9049\n",
              "is_authorized_dealer      9049\n",
              "is_featured_member        9049\n",
              "is_verified                  0\n",
              "membership_level             0\n",
              "member_since            150243\n",
              "properties                   0\n",
              "user                         0\n",
              "dtype: int64"
            ]
          },
          "execution_count": 9,
          "metadata": {},
          "output_type": "execute_result"
        }
      ],
      "source": [
        "df.isnull().sum()"
      ]
    },
    {
      "cell_type": "code",
      "execution_count": null,
      "id": "48924d92-78ef-49de-b5ec-ee74ec24ebb6",
      "metadata": {
        "id": "48924d92-78ef-49de-b5ec-ee74ec24ebb6"
      },
      "outputs": [],
      "source": [
        "df.dropna(subset=['ad_description','timestamp','posted_date','deactivation_date'],inplace=True)"
      ]
    },
    {
      "cell_type": "code",
      "execution_count": null,
      "id": "063f6a1a-7bc1-4b2e-ab55-1bfde882012d",
      "metadata": {
        "id": "063f6a1a-7bc1-4b2e-ab55-1bfde882012d",
        "outputId": "e1e5484c-73c2-47af-b621-694b270f04d7"
      },
      "outputs": [
        {
          "data": {
            "text/plain": [
              "ad_title                     0\n",
              "ad_description               0\n",
              "details                 103382\n",
              "slug                         0\n",
              "title                        0\n",
              "type                         0\n",
              "price                     3811\n",
              "timestamp                    0\n",
              "posted_date                  0\n",
              "deactivation_date            0\n",
              "category                     0\n",
              "parent_category              0\n",
              "location                     0\n",
              "geo_region                   0\n",
              "area                         0\n",
              "is_delivery_free             0\n",
              "is_doorstep_delivery         0\n",
              "is_dsd_applicable            0\n",
              "is_member                 9049\n",
              "is_authorized_dealer      9049\n",
              "is_featured_member        9049\n",
              "is_verified                  0\n",
              "membership_level             0\n",
              "member_since            150243\n",
              "properties                   0\n",
              "user                         0\n",
              "dtype: int64"
            ]
          },
          "execution_count": 10,
          "metadata": {},
          "output_type": "execute_result"
        }
      ],
      "source": [
        "df.isnull().sum()"
      ]
    },
    {
      "cell_type": "code",
      "execution_count": null,
      "id": "e1cbc258-cee9-44b9-ba18-1765105ff8e2",
      "metadata": {
        "id": "e1cbc258-cee9-44b9-ba18-1765105ff8e2"
      },
      "outputs": [],
      "source": [
        "df=df.drop('details',axis=1)"
      ]
    },
    {
      "cell_type": "code",
      "execution_count": null,
      "id": "e105c78a-ec6d-4e95-a6eb-9d7e790b6fd4",
      "metadata": {
        "id": "e105c78a-ec6d-4e95-a6eb-9d7e790b6fd4"
      },
      "outputs": [],
      "source": [
        "df=df.drop('member_since',axis=1)"
      ]
    },
    {
      "cell_type": "code",
      "execution_count": null,
      "id": "0d8c8294-cb44-4210-8dfc-54fffda1f6f0",
      "metadata": {
        "id": "0d8c8294-cb44-4210-8dfc-54fffda1f6f0",
        "outputId": "c15f9680-5b08-4f36-c1ab-c855d8e5c3d0"
      },
      "outputs": [
        {
          "data": {
            "text/plain": [
              "ad_title                   0\n",
              "ad_description             0\n",
              "slug                       0\n",
              "title                      0\n",
              "type                       0\n",
              "price                   3811\n",
              "timestamp                  0\n",
              "posted_date                0\n",
              "deactivation_date          0\n",
              "category                   0\n",
              "parent_category            0\n",
              "location                   0\n",
              "geo_region                 0\n",
              "area                       0\n",
              "is_delivery_free           0\n",
              "is_doorstep_delivery       0\n",
              "is_dsd_applicable          0\n",
              "is_member               9049\n",
              "is_authorized_dealer    9049\n",
              "is_featured_member      9049\n",
              "is_verified                0\n",
              "membership_level           0\n",
              "properties                 0\n",
              "user                       0\n",
              "dtype: int64"
            ]
          },
          "execution_count": 13,
          "metadata": {},
          "output_type": "execute_result"
        }
      ],
      "source": [
        "df.isnull().sum()"
      ]
    },
    {
      "cell_type": "markdown",
      "id": "f689aa4a-63c9-4888-b7c5-5fc66bced1e5",
      "metadata": {
        "id": "f689aa4a-63c9-4888-b7c5-5fc66bced1e5"
      },
      "source": [
        "## changing the price of the column"
      ]
    },
    {
      "cell_type": "code",
      "execution_count": null,
      "id": "1b84a695-3c93-43fd-ba6e-3bc2fa47f34b",
      "metadata": {
        "id": "1b84a695-3c93-43fd-ba6e-3bc2fa47f34b"
      },
      "outputs": [],
      "source": [
        "df['price'] = pd.to_numeric(df['price'].str.replace('Rs', '').str.replace(',', ''), errors='coerce')"
      ]
    },
    {
      "cell_type": "code",
      "execution_count": null,
      "id": "7fd0bf25-0301-4467-a16f-67521f9d327e",
      "metadata": {
        "id": "7fd0bf25-0301-4467-a16f-67521f9d327e",
        "outputId": "3bb5a0b4-f030-450c-b62d-c175a4b3086c"
      },
      "outputs": [
        {
          "name": "stderr",
          "output_type": "stream",
          "text": [
            "C:\\Users\\gajja\\AppData\\Local\\Temp\\ipykernel_9860\\1576110267.py:1: FutureWarning: A value is trying to be set on a copy of a DataFrame or Series through chained assignment using an inplace method.\n",
            "The behavior will change in pandas 3.0. This inplace method will never work because the intermediate object on which we are setting values always behaves as a copy.\n",
            "\n",
            "For example, when doing 'df[col].method(value, inplace=True)', try using 'df.method({col: value}, inplace=True)' or df[col] = df[col].method(value) instead, to perform the operation inplace on the original object.\n",
            "\n",
            "\n",
            "  df['price'].fillna(df['price'].median(), inplace=True)\n"
          ]
        }
      ],
      "source": [
        "df['price'].fillna(df['price'].median(), inplace=True)"
      ]
    },
    {
      "cell_type": "code",
      "execution_count": null,
      "id": "d77eb1db-9f6a-4392-8693-48958b2d8314",
      "metadata": {
        "id": "d77eb1db-9f6a-4392-8693-48958b2d8314",
        "outputId": "a0ac35be-c7c0-418d-947e-bf886026ef95"
      },
      "outputs": [
        {
          "data": {
            "text/plain": [
              "ad_title                   0\n",
              "ad_description             0\n",
              "slug                       0\n",
              "title                      0\n",
              "type                       0\n",
              "price                      0\n",
              "timestamp                  0\n",
              "posted_date                0\n",
              "deactivation_date          0\n",
              "category                   0\n",
              "parent_category            0\n",
              "location                   0\n",
              "geo_region                 0\n",
              "area                       0\n",
              "is_delivery_free           0\n",
              "is_doorstep_delivery       0\n",
              "is_dsd_applicable          0\n",
              "is_member               9049\n",
              "is_authorized_dealer    9049\n",
              "is_featured_member      9049\n",
              "is_verified                0\n",
              "membership_level           0\n",
              "properties                 0\n",
              "user                       0\n",
              "dtype: int64"
            ]
          },
          "execution_count": 16,
          "metadata": {},
          "output_type": "execute_result"
        }
      ],
      "source": [
        "df.isnull().sum()"
      ]
    },
    {
      "cell_type": "code",
      "execution_count": null,
      "id": "a3c7166a-b500-45d3-bd49-3a5ea0d56c24",
      "metadata": {
        "id": "a3c7166a-b500-45d3-bd49-3a5ea0d56c24"
      },
      "outputs": [],
      "source": [
        "categorical_features = ['type', 'category','is_verified','location', 'geo_region', 'membership_level', 'is_member', 'is_authorized_dealer', 'is_featured_member']\n",
        "label_encoders = {col: LabelEncoder() for col in categorical_features}"
      ]
    },
    {
      "cell_type": "code",
      "execution_count": null,
      "id": "d7e22bb9-2ffe-4597-a876-84f1d189fb04",
      "metadata": {
        "id": "d7e22bb9-2ffe-4597-a876-84f1d189fb04"
      },
      "outputs": [],
      "source": [
        "for col in categorical_features:\n",
        "    df[col] = label_encoders[col].fit_transform(df[col])"
      ]
    },
    {
      "cell_type": "code",
      "execution_count": null,
      "id": "dc063b81-dc1b-42ac-aa83-7132309dc0ca",
      "metadata": {
        "id": "dc063b81-dc1b-42ac-aa83-7132309dc0ca"
      },
      "outputs": [],
      "source": [
        "imputer = SimpleImputer(strategy='most_frequent')\n",
        "df[['is_member','is_authorized_dealer','is_featured_member']] = imputer.fit_transform(df[['is_member','is_authorized_dealer','is_featured_member']])"
      ]
    },
    {
      "cell_type": "code",
      "execution_count": null,
      "id": "6dc39725-c7a4-4b43-8bf7-348211040276",
      "metadata": {
        "id": "6dc39725-c7a4-4b43-8bf7-348211040276"
      },
      "outputs": [],
      "source": [
        "label =LabelEncoder()\n",
        "for column in ['type','location','geo_region','area','is_delivery_free','is_doorstep_delivery','is_dsd_applicable','is_member','is_authorized_dealer','is_featured_member','is_verified','membership_level']:\n",
        "    df[column]= label.fit_transform(df[column])"
      ]
    },
    {
      "cell_type": "code",
      "execution_count": null,
      "id": "be41c287-a272-4f5d-bc1b-a387577a17b7",
      "metadata": {
        "id": "be41c287-a272-4f5d-bc1b-a387577a17b7"
      },
      "outputs": [],
      "source": [
        "numerical_features = ['price']\n",
        "scaler = StandardScaler()\n",
        "df[numerical_features] = scaler.fit_transform(df[numerical_features])"
      ]
    },
    {
      "cell_type": "code",
      "execution_count": null,
      "id": "e59ede6f-2c2f-4407-ab4b-814d9b446b30",
      "metadata": {
        "id": "e59ede6f-2c2f-4407-ab4b-814d9b446b30"
      },
      "outputs": [],
      "source": [
        "df.drop(columns=['ad_title','posted_date','parent_category','is_delivery_free','deactivation_date','is_doorstep_delivery','is_doorstep_delivery','ad_description','is_dsd_applicable','slug', 'title', 'timestamp', 'area', 'properties', 'user'], inplace=True)"
      ]
    },
    {
      "cell_type": "code",
      "execution_count": null,
      "id": "ba1e617e-3380-4ec4-a392-1b305dcda28a",
      "metadata": {
        "id": "ba1e617e-3380-4ec4-a392-1b305dcda28a",
        "outputId": "48e21e1e-91a6-4efc-829d-6fad4b4fea2c"
      },
      "outputs": [
        {
          "data": {
            "text/plain": [
              "(258875, 10)"
            ]
          },
          "execution_count": 23,
          "metadata": {},
          "output_type": "execute_result"
        }
      ],
      "source": [
        "df.shape"
      ]
    },
    {
      "cell_type": "code",
      "execution_count": null,
      "id": "663f88f4-2748-4bae-915f-0048236f71fa",
      "metadata": {
        "id": "663f88f4-2748-4bae-915f-0048236f71fa",
        "outputId": "c4c164f6-bdf5-4af1-aca0-3c97abcfc720"
      },
      "outputs": [
        {
          "data": {
            "image/png": "[encoded data removed]",
            "text/plain": [
              "<Figure size 1500x1000 with 2 Axes>"
            ]
          },
          "metadata": {},
          "output_type": "display_data"
        }
      ],
      "source": [
        "plt.figure(figsize=(15, 10))\n",
        "correlation_matrix = df.corr()\n",
        "sns.heatmap(correlation_matrix, annot=True, cmap='coolwarm')\n",
        "plt.show()"
      ]
    },
    {
      "cell_type": "code",
      "execution_count": null,
      "id": "b8ba4c09-6b8b-4aea-a99c-4e5707c6f8fe",
      "metadata": {
        "id": "b8ba4c09-6b8b-4aea-a99c-4e5707c6f8fe"
      },
      "outputs": [],
      "source": [
        "X = df.drop('price', axis=1)\n",
        "y = df['price']"
      ]
    },
    {
      "cell_type": "code",
      "execution_count": null,
      "id": "944ccafb-cf9e-4aea-bc1f-b857d728b3a8",
      "metadata": {
        "id": "944ccafb-cf9e-4aea-bc1f-b857d728b3a8",
        "outputId": "493a6e96-6e33-42c4-afa7-599ab6e08ad0"
      },
      "outputs": [
        {
          "name": "stdout",
          "output_type": "stream",
          "text": [
            "Selected features: Index(['category', 'location', 'geo_region', 'is_member', 'is_verified'], dtype='object')\n"
          ]
        },
        {
          "name": "stderr",
          "output_type": "stream",
          "text": [
            "C:\\Users\\gajja\\AppData\\Local\\Programs\\Python\\Python312\\Lib\\site-packages\\sklearn\\base.py:486: UserWarning: X has feature names, but SelectFromModel was fitted without feature names\n",
            "  warnings.warn(\n"
          ]
        }
      ],
      "source": [
        "from sklearn.feature_selection import SelectFromModel\n",
        "lasso = Lasso(alpha=0.01)\n",
        "lasso.fit(X, y)\n",
        "model = SelectFromModel(lasso, prefit=True)\n",
        "X_selected = model.transform(X)\n",
        "\n",
        "selected_features = X.columns[(model.get_support())]\n",
        "print(\"Selected features:\", selected_features)"
      ]
    },
    {
      "cell_type": "code",
      "execution_count": null,
      "id": "26648897-3d54-4a03-b33b-8279e0d93259",
      "metadata": {
        "id": "26648897-3d54-4a03-b33b-8279e0d93259"
      },
      "outputs": [],
      "source": [
        "from sklearn.model_selection import train_test_split, cross_val_score\n",
        "from sklearn.linear_model import LinearRegression\n",
        "from sklearn.tree import DecisionTreeRegressor\n",
        "from sklearn.ensemble import RandomForestRegressor\n",
        "from sklearn.metrics import mean_squared_error, mean_absolute_error, r2_score"
      ]
    },
    {
      "cell_type": "code",
      "execution_count": null,
      "id": "f67e696e-c7d9-4a67-a8e4-79c0bfc2844a",
      "metadata": {
        "id": "f67e696e-c7d9-4a67-a8e4-79c0bfc2844a"
      },
      "outputs": [],
      "source": [
        "X_train, X_test, y_train, y_test = train_test_split(X_selected, y, test_size=0.2, random_state=0)"
      ]
    },
    {
      "cell_type": "code",
      "execution_count": null,
      "id": "d5c4a898-2fcb-4a89-a9ec-0607da39869c",
      "metadata": {
        "id": "d5c4a898-2fcb-4a89-a9ec-0607da39869c"
      },
      "outputs": [],
      "source": [
        "models = {\n",
        "    'Linear Regression': LinearRegression(),\n",
        "    'Decision Tree': DecisionTreeRegressor(),\n",
        "    'Random Forest': RandomForestRegressor(),\n",
        "}"
      ]
    },
    {
      "cell_type": "code",
      "execution_count": null,
      "id": "bf68dd6b-e011-4d14-aa20-e605e16069ad",
      "metadata": {
        "id": "bf68dd6b-e011-4d14-aa20-e605e16069ad",
        "outputId": "73e5401a-cef5-4702-d127-92644b6fcdcf"
      },
      "outputs": [
        {
          "name": "stderr",
          "output_type": "stream",
          "text": [
            "C:\\Users\\gajja\\AppData\\Local\\Programs\\Python\\Python312\\Lib\\site-packages\\sklearn\\metrics\\_regression.py:492: FutureWarning: 'squared' is deprecated in version 1.4 and will be removed in 1.6. To calculate the root mean squared error, use the function'root_mean_squared_error'.\n",
            "  warnings.warn(\n",
            "C:\\Users\\gajja\\AppData\\Local\\Programs\\Python\\Python312\\Lib\\site-packages\\sklearn\\metrics\\_regression.py:492: FutureWarning: 'squared' is deprecated in version 1.4 and will be removed in 1.6. To calculate the root mean squared error, use the function'root_mean_squared_error'.\n",
            "  warnings.warn(\n",
            "C:\\Users\\gajja\\AppData\\Local\\Programs\\Python\\Python312\\Lib\\site-packages\\sklearn\\metrics\\_regression.py:492: FutureWarning: 'squared' is deprecated in version 1.4 and will be removed in 1.6. To calculate the root mean squared error, use the function'root_mean_squared_error'.\n",
            "  warnings.warn(\n"
          ]
        }
      ],
      "source": [
        "results = {}\n",
        "for name, model in models.items():\n",
        "    model.fit(X_train, y_train)\n",
        "    y_pred = model.predict(X_test)\n",
        "    results[name] = {\n",
        "        'RMSE': mean_squared_error(y_test, y_pred, squared=False),\n",
        "        'MAE': mean_absolute_error(y_test, y_pred),\n",
        "        'R²': r2_score(y_test, y_pred)\n",
        "    }"
      ]
    },
    {
      "cell_type": "code",
      "execution_count": null,
      "id": "84fcb8d3-62dd-4619-93d0-ee4f1a764981",
      "metadata": {
        "id": "84fcb8d3-62dd-4619-93d0-ee4f1a764981",
        "outputId": "93100e21-f819-437a-a8ba-b3ec51e93dac"
      },
      "outputs": [
        {
          "name": "stdout",
          "output_type": "stream",
          "text": [
            "Linear Regression:\n",
            "  RMSE: 0.7957\n",
            "  MAE: 0.3538\n",
            "  R²: 0.0231\n",
            "Decision Tree:\n",
            "  RMSE: 0.5792\n",
            "  MAE: 0.1552\n",
            "  R²: 0.4825\n",
            "Random Forest:\n",
            "  RMSE: 0.5778\n",
            "  MAE: 0.1551\n",
            "  R²: 0.4849\n"
          ]
        }
      ],
      "source": [
        "for name, metrics in results.items():\n",
        "    print(f\"{name}:\")\n",
        "    for metric, value in metrics.items():\n",
        "        print(f\"  {metric}: {value:.4f}\")"
      ]
    },
    {
      "cell_type": "code",
      "execution_count": null,
      "id": "64970fe3-f11b-4f82-b427-41bc0413c5d1",
      "metadata": {
        "id": "64970fe3-f11b-4f82-b427-41bc0413c5d1"
      },
      "outputs": [],
      "source": [
        "from sklearn.model_selection import GridSearchCV"
      ]
    },
    {
      "cell_type": "code",
      "execution_count": null,
      "id": "71468091-e27e-4b72-8bf8-2591a35c3b25",
      "metadata": {
        "id": "71468091-e27e-4b72-8bf8-2591a35c3b25"
      },
      "outputs": [],
      "source": [
        "y = df.iloc[:, price_index]"
      ]
    },
    {
      "cell_type": "code",
      "execution_count": null,
      "id": "b1583af3-1383-45e5-a60a-0ac6a9bc8821",
      "metadata": {
        "id": "b1583af3-1383-45e5-a60a-0ac6a9bc8821"
      },
      "outputs": [],
      "source": [
        "x_train,x_test,y_train,y_test = train_test_split(x,y,test_size=0.2,random_state=0)"
      ]
    },
    {
      "cell_type": "code",
      "execution_count": null,
      "id": "6d652fd9-16c5-46da-abae-ed8b33f90d2f",
      "metadata": {
        "id": "6d652fd9-16c5-46da-abae-ed8b33f90d2f"
      },
      "outputs": [],
      "source": [
        "param_grid = {\n",
        "    'n_estimators': [50, 100, 200],\n",
        "    'max_depth': [10, 20, 30, None],\n",
        "    'min_samples_split': [2, 5, 10],\n",
        "    'min_samples_leaf': [1, 2, 4]\n",
        "}"
      ]
    },
    {
      "cell_type": "code",
      "execution_count": null,
      "id": "b3a285d4-8572-4a9b-8b7f-4d1d09b7859e",
      "metadata": {
        "id": "b3a285d4-8572-4a9b-8b7f-4d1d09b7859e"
      },
      "outputs": [],
      "source": [
        "grid_search = GridSearchCV(estimator=RandomForestRegressor(), param_grid=param_grid, cv=3, n_jobs=-1, verbose=2)\n",
        "grid_search.fit(X_train, y_train)"
      ]
    },
    {
      "cell_type": "code",
      "execution_count": null,
      "id": "c2477e24-db04-4544-8f83-7b09371f5361",
      "metadata": {
        "id": "c2477e24-db04-4544-8f83-7b09371f5361"
      },
      "outputs": [],
      "source": [
        "print(\"Best parameters:\", grid_search.best_params_)"
      ]
    },
    {
      "cell_type": "code",
      "execution_count": null,
      "id": "351b9318-9d3b-4092-a73f-6705cced949c",
      "metadata": {
        "id": "351b9318-9d3b-4092-a73f-6705cced949c"
      },
      "outputs": [],
      "source": [
        "riddel.best_params_"
      ]
    },
    {
      "cell_type": "markdown",
      "id": "c1de085d-30c0-4151-91d5-4272dc3a5008",
      "metadata": {
        "id": "c1de085d-30c0-4151-91d5-4272dc3a5008"
      },
      "source": [
        "----------------------------------------------------------------------------------------------------------------------------------"
      ]
    },
    {
      "cell_type": "markdown",
      "id": "2dc309b1-f5ba-44e1-82ad-8e1ebbeb3ba4",
      "metadata": {
        "id": "2dc309b1-f5ba-44e1-82ad-8e1ebbeb3ba4"
      },
      "source": [
        "# Section 3: Geographical Analysis of Demand and Supply\n",
        "    Problem Statement: Analyze the geographical distribution of vehicle advertisements to understand demand and supply patterns.\n",
        "    Tasks:\n",
        "    Data Preprocessing:\n",
        "        Handle missing values.\n",
        "        Encode geographical variables.\n",
        "    Geographical Analysis:\n",
        "        Visualize the distribution of advertisements across different regions.\n",
        "        Identify regions with high demand and supply.\n",
        "    Temporal Analysis:\n",
        "        Analyze how demand and supply vary over time in different regions.\n",
        "        Identify any seasonal trends or patterns.\n",
        "    Modeling Demand and Supply:\n",
        "        Develop a regression model to predict demand and supply based on geographical and temporal features.\n",
        "        Evaluate the model using appropriate metrics.\n"
      ]
    },
    {
      "cell_type": "code",
      "execution_count": null,
      "id": "c3ad702d-8aec-4a5c-a925-880b7ac42d5c",
      "metadata": {
        "id": "c3ad702d-8aec-4a5c-a925-880b7ac42d5c"
      },
      "outputs": [],
      "source": [
        "import pandas as pd\n",
        "import numpy as np\n",
        "import matplotlib.pyplot as plt\n",
        "import seaborn as sns\n",
        "from sklearn.impute import SimpleImputer\n",
        "from sklearn.preprocessing import LabelEncoder,OneHotEncoder\n",
        "from sklearn.preprocessing import OneHotEncoder\n",
        "from sklearn.model_selection import train_test_split\n",
        "from sklearn.preprocessing import MinMaxScaler\n",
        "from sklearn.preprocessing import StandardScaler\n",
        "from sklearn.linear_model import LinearRegression\n",
        "from sklearn import metrics\n",
        "from sklearn.metrics import mean_squared_error,r2_score\n",
        "from sklearn.preprocessing import PolynomialFeatures\n",
        "from sklearn.linear_model import LogisticRegression"
      ]
    },
    {
      "cell_type": "code",
      "execution_count": null,
      "id": "c92dbe73-28e0-48e7-80de-b40edc655136",
      "metadata": {
        "id": "c92dbe73-28e0-48e7-80de-b40edc655136"
      },
      "outputs": [],
      "source": [
        "dff = pd.read_csv('vehicles.csv')"
      ]
    },
    {
      "cell_type": "code",
      "execution_count": null,
      "id": "e5072b9e-a543-472f-9b8f-ec9817b53e3a",
      "metadata": {
        "id": "e5072b9e-a543-472f-9b8f-ec9817b53e3a",
        "outputId": "f0b047b3-7345-4a9f-d77b-250c17d7a632"
      },
      "outputs": [
        {
          "name": "stdout",
          "output_type": "stream",
          "text": [
            "<class 'pandas.core.frame.DataFrame'>\n",
            "RangeIndex: 258888 entries, 0 to 258887\n",
            "Data columns (total 26 columns):\n",
            " #   Column                Non-Null Count   Dtype \n",
            "---  ------                --------------   ----- \n",
            " 0   ad_title              258888 non-null  object\n",
            " 1   ad_description        258881 non-null  object\n",
            " 2   details               155505 non-null  object\n",
            " 3   slug                  258888 non-null  object\n",
            " 4   title                 258888 non-null  object\n",
            " 5   type                  258888 non-null  object\n",
            " 6   price                 255077 non-null  object\n",
            " 7   timestamp             258882 non-null  object\n",
            " 8   posted_date           258882 non-null  object\n",
            " 9   deactivation_date     258882 non-null  object\n",
            " 10  category              258888 non-null  object\n",
            " 11  parent_category       258888 non-null  object\n",
            " 12  location              258888 non-null  object\n",
            " 13  geo_region            258888 non-null  object\n",
            " 14  area                  258888 non-null  object\n",
            " 15  is_delivery_free      258888 non-null  bool  \n",
            " 16  is_doorstep_delivery  258888 non-null  bool  \n",
            " 17  is_dsd_applicable     258888 non-null  bool  \n",
            " 18  is_member             249838 non-null  object\n",
            " 19  is_authorized_dealer  249838 non-null  object\n",
            " 20  is_featured_member    249838 non-null  object\n",
            " 21  is_verified           258888 non-null  bool  \n",
            " 22  membership_level      258888 non-null  object\n",
            " 23  member_since          108634 non-null  object\n",
            " 24  properties            258888 non-null  object\n",
            " 25  user                  258888 non-null  object\n",
            "dtypes: bool(4), object(22)\n",
            "memory usage: 44.4+ MB\n"
          ]
        }
      ],
      "source": [
        "dff.info()"
      ]
    },
    {
      "cell_type": "code",
      "execution_count": null,
      "id": "fa9f7b30-9073-4568-aa87-1f56d20d837c",
      "metadata": {
        "id": "fa9f7b30-9073-4568-aa87-1f56d20d837c",
        "outputId": "5e2afb9d-deb2-4983-bce6-cfadf8505988"
      },
      "outputs": [
        {
          "data": {
            "text/plain": [
              "Index(['ad_title', 'ad_description', 'details', 'slug', 'title', 'type',\n",
              "       'price', 'timestamp', 'posted_date', 'deactivation_date', 'category',\n",
              "       'parent_category', 'location', 'geo_region', 'area', 'is_delivery_free',\n",
              "       'is_doorstep_delivery', 'is_dsd_applicable', 'is_member',\n",
              "       'is_authorized_dealer', 'is_featured_member', 'is_verified',\n",
              "       'membership_level', 'member_since', 'properties', 'user'],\n",
              "      dtype='object')"
            ]
          },
          "execution_count": 4,
          "metadata": {},
          "output_type": "execute_result"
        }
      ],
      "source": [
        "dff.columns"
      ]
    },
    {
      "cell_type": "code",
      "execution_count": null,
      "id": "133fa33d-fdc9-44b8-94fe-5f19b56f0c97",
      "metadata": {
        "id": "133fa33d-fdc9-44b8-94fe-5f19b56f0c97",
        "outputId": "3fc8ed86-fb36-4e43-83f7-e9300e03fcfb"
      },
      "outputs": [
        {
          "data": {
            "text/plain": [
              "ad_title                     0\n",
              "ad_description               7\n",
              "details                 103383\n",
              "slug                         0\n",
              "title                        0\n",
              "type                         0\n",
              "price                     3811\n",
              "timestamp                    6\n",
              "posted_date                  6\n",
              "deactivation_date            6\n",
              "category                     0\n",
              "parent_category              0\n",
              "location                     0\n",
              "geo_region                   0\n",
              "area                         0\n",
              "is_delivery_free             0\n",
              "is_doorstep_delivery         0\n",
              "is_dsd_applicable            0\n",
              "is_member                 9050\n",
              "is_authorized_dealer      9050\n",
              "is_featured_member        9050\n",
              "is_verified                  0\n",
              "membership_level             0\n",
              "member_since            150254\n",
              "properties                   0\n",
              "user                         0\n",
              "dtype: int64"
            ]
          },
          "execution_count": 5,
          "metadata": {},
          "output_type": "execute_result"
        }
      ],
      "source": [
        "dff.isnull().sum()"
      ]
    },
    {
      "cell_type": "code",
      "execution_count": null,
      "id": "4c264ae8-a463-42c7-8b34-7b40d516435f",
      "metadata": {
        "id": "4c264ae8-a463-42c7-8b34-7b40d516435f"
      },
      "outputs": [],
      "source": [
        "dff.dropna(subset=['ad_description','timestamp','posted_date','deactivation_date'],inplace=True)"
      ]
    },
    {
      "cell_type": "code",
      "execution_count": null,
      "id": "62ea1a8b-49e8-44be-9f97-6599a2318963",
      "metadata": {
        "id": "62ea1a8b-49e8-44be-9f97-6599a2318963"
      },
      "outputs": [],
      "source": [
        "dff=dff.drop('details',axis=1)\n",
        "dff=dff.drop('member_since',axis=1)"
      ]
    },
    {
      "cell_type": "code",
      "execution_count": null,
      "id": "bbec9d7c-d8ac-4676-9692-7a124688c62e",
      "metadata": {
        "id": "bbec9d7c-d8ac-4676-9692-7a124688c62e",
        "outputId": "9a411839-78b5-4e0c-efab-812b9d9e5591"
      },
      "outputs": [
        {
          "data": {
            "text/plain": [
              "ad_title                   0\n",
              "ad_description             0\n",
              "slug                       0\n",
              "title                      0\n",
              "type                       0\n",
              "price                   3811\n",
              "timestamp                  0\n",
              "posted_date                0\n",
              "deactivation_date          0\n",
              "category                   0\n",
              "parent_category            0\n",
              "location                   0\n",
              "geo_region                 0\n",
              "area                       0\n",
              "is_delivery_free           0\n",
              "is_doorstep_delivery       0\n",
              "is_dsd_applicable          0\n",
              "is_member               9049\n",
              "is_authorized_dealer    9049\n",
              "is_featured_member      9049\n",
              "is_verified                0\n",
              "membership_level           0\n",
              "properties                 0\n",
              "user                       0\n",
              "dtype: int64"
            ]
          },
          "execution_count": 8,
          "metadata": {},
          "output_type": "execute_result"
        }
      ],
      "source": [
        "dff.isnull().sum()"
      ]
    },
    {
      "cell_type": "code",
      "execution_count": null,
      "id": "9f5463cf-016c-42c0-9cb4-7d821808d4cd",
      "metadata": {
        "id": "9f5463cf-016c-42c0-9cb4-7d821808d4cd"
      },
      "outputs": [],
      "source": [
        "dff['price'] = pd.to_numeric(dff['price'].str.replace('Rs', '').str.replace(',', ''), errors='coerce')"
      ]
    },
    {
      "cell_type": "code",
      "execution_count": null,
      "id": "9454442d-5d35-49c8-91ad-762158a49a85",
      "metadata": {
        "id": "9454442d-5d35-49c8-91ad-762158a49a85",
        "outputId": "d8a044bf-a1f5-4a01-825b-68815d686c68"
      },
      "outputs": [
        {
          "name": "stderr",
          "output_type": "stream",
          "text": [
            "C:\\Users\\gajja\\AppData\\Local\\Temp\\ipykernel_7544\\3681626676.py:1: FutureWarning: A value is trying to be set on a copy of a DataFrame or Series through chained assignment using an inplace method.\n",
            "The behavior will change in pandas 3.0. This inplace method will never work because the intermediate object on which we are setting values always behaves as a copy.\n",
            "\n",
            "For example, when doing 'df[col].method(value, inplace=True)', try using 'df.method({col: value}, inplace=True)' or df[col] = df[col].method(value) instead, to perform the operation inplace on the original object.\n",
            "\n",
            "\n",
            "  dff['price'].fillna(dff['price'].median(), inplace=True)\n"
          ]
        }
      ],
      "source": [
        "dff['price'].fillna(dff['price'].median(), inplace=True)"
      ]
    },
    {
      "cell_type": "code",
      "execution_count": null,
      "id": "3b7c2ea0-1b9a-4cd8-9d80-995525add3fe",
      "metadata": {
        "id": "3b7c2ea0-1b9a-4cd8-9d80-995525add3fe",
        "outputId": "0e53f97a-f024-4a57-f241-a2a20b44c537"
      },
      "outputs": [
        {
          "data": {
            "text/plain": [
              "ad_title                   0\n",
              "ad_description             0\n",
              "slug                       0\n",
              "title                      0\n",
              "type                       0\n",
              "price                      0\n",
              "timestamp                  0\n",
              "posted_date                0\n",
              "deactivation_date          0\n",
              "category                   0\n",
              "parent_category            0\n",
              "location                   0\n",
              "geo_region                 0\n",
              "area                       0\n",
              "is_delivery_free           0\n",
              "is_doorstep_delivery       0\n",
              "is_dsd_applicable          0\n",
              "is_member               9049\n",
              "is_authorized_dealer    9049\n",
              "is_featured_member      9049\n",
              "is_verified                0\n",
              "membership_level           0\n",
              "properties                 0\n",
              "user                       0\n",
              "dtype: int64"
            ]
          },
          "execution_count": 11,
          "metadata": {},
          "output_type": "execute_result"
        }
      ],
      "source": [
        "dff.isnull().sum()"
      ]
    },
    {
      "cell_type": "code",
      "execution_count": null,
      "id": "399b6138-7003-4a16-9dbb-54404b03dc40",
      "metadata": {
        "id": "399b6138-7003-4a16-9dbb-54404b03dc40"
      },
      "outputs": [],
      "source": [
        "categorical_features = ['type', 'category','is_verified','location', 'geo_region', 'membership_level', 'is_member', 'is_authorized_dealer', 'is_featured_member']\n",
        "label_encoders = {col: LabelEncoder() for col in categorical_features}"
      ]
    },
    {
      "cell_type": "code",
      "execution_count": null,
      "id": "41fba1e4-a9df-4811-b80a-b31ca92e719a",
      "metadata": {
        "id": "41fba1e4-a9df-4811-b80a-b31ca92e719a"
      },
      "outputs": [],
      "source": [
        "for col in categorical_features:\n",
        "    dff[col] = label_encoders[col].fit_transform(dff[col])"
      ]
    },
    {
      "cell_type": "code",
      "execution_count": null,
      "id": "48226bd9-2c3b-4c26-87a4-bf98a24e2b11",
      "metadata": {
        "id": "48226bd9-2c3b-4c26-87a4-bf98a24e2b11",
        "outputId": "145cdad9-f70c-49b1-dd0e-9dcd5b507dcb"
      },
      "outputs": [
        {
          "data": {
            "text/plain": [
              "ad_title                0\n",
              "ad_description          0\n",
              "slug                    0\n",
              "title                   0\n",
              "type                    0\n",
              "price                   0\n",
              "timestamp               0\n",
              "posted_date             0\n",
              "deactivation_date       0\n",
              "category                0\n",
              "parent_category         0\n",
              "location                0\n",
              "geo_region              0\n",
              "area                    0\n",
              "is_delivery_free        0\n",
              "is_doorstep_delivery    0\n",
              "is_dsd_applicable       0\n",
              "is_member               0\n",
              "is_authorized_dealer    0\n",
              "is_featured_member      0\n",
              "is_verified             0\n",
              "membership_level        0\n",
              "properties              0\n",
              "user                    0\n",
              "dtype: int64"
            ]
          },
          "execution_count": 14,
          "metadata": {},
          "output_type": "execute_result"
        }
      ],
      "source": [
        "dff.isnull().sum()"
      ]
    },
    {
      "cell_type": "code",
      "execution_count": null,
      "id": "8f53ff70-fc46-48e6-8ff0-d93827a17074",
      "metadata": {
        "id": "8f53ff70-fc46-48e6-8ff0-d93827a17074"
      },
      "outputs": [],
      "source": [
        "# Convert categorical geographical variables to numerical using one-hot encoding\n",
        "label =LabelEncoder()\n",
        "for column in ['location','geo_region','area']:\n",
        "    dff[column]= label.fit_transform(dff[column])\n"
      ]
    },
    {
      "cell_type": "code",
      "execution_count": null,
      "id": "55386dd9-a106-4df0-b902-e908908f1860",
      "metadata": {
        "id": "55386dd9-a106-4df0-b902-e908908f1860",
        "outputId": "1085efaa-250a-4ed4-9d8a-7b9ed66ca871"
      },
      "outputs": [
        {
          "data": {
            "image/png": "[encoded data removed]",
            "text/plain": [
              "<Figure size 1200x600 with 1 Axes>"
            ]
          },
          "metadata": {},
          "output_type": "display_data"
        }
      ],
      "source": [
        "import matplotlib.pyplot as plt\n",
        "import seaborn as sns\n",
        "\n",
        "# Count of advertisements by region\n",
        "plt.figure(figsize=(12, 6))\n",
        "sns.countplot(y='geo_region', data=dff, order=dff['geo_region'].value_counts().index)\n",
        "plt.title('Distribution of Advertisements by Region')\n",
        "plt.show()\n"
      ]
    },
    {
      "cell_type": "code",
      "source": [],
      "metadata": {
        "id": "chkh6LNRBsTa"
      },
      "id": "chkh6LNRBsTa",
      "execution_count": null,
      "outputs": []
    },
    {
      "cell_type": "markdown",
      "source": [
        "\n",
        "\n",
        "# Observations:\n",
        "# - Region 0 has the highest number of advertisements, followed by regions 1 and 2.\n",
        "# - Regions 3, 4, and 5 have relatively fewer advertisements.\n",
        "\n",
        "# Suggestions:\n",
        "# - Target marketing efforts towards regions with high demand (e.g., region 0).\n",
        "# - Explore opportunities to expand into regions with lower supply (e.g., regions 3, 4, and 5).\n",
        "# - Analyze the reasons behind the higher demand in certain regions and tailor product offerings or marketing strategies accordingly.\n",
        "# - Monitor the geographical distribution of advertisements over time to identify any shifts in demand and supply patterns.\n",
        "\n"
      ],
      "metadata": {
        "id": "oDKBCCsHB5Ml"
      },
      "id": "oDKBCCsHB5Ml"
    },
    {
      "cell_type": "code",
      "execution_count": null,
      "id": "f80cde01-9f6f-4fb5-a051-051c8f1832de",
      "metadata": {
        "id": "f80cde01-9f6f-4fb5-a051-051c8f1832de",
        "outputId": "da64f307-8998-4e5d-c9ed-ab802cdffc6b"
      },
      "outputs": [
        {
          "data": {
            "image/png": "[encoded data removed]",
            "text/plain": [
              "<Figure size 1200x600 with 1 Axes>"
            ]
          },
          "metadata": {},
          "output_type": "display_data"
        }
      ],
      "source": [
        "# Assuming 'category' or 'parent_category' indicates demand and supply\n",
        "plt.figure(figsize=(12, 6))\n",
        "sns.countplot(y='geo_region', hue='category', data=dff, order=dff['geo_region'].value_counts().index)\n",
        "plt.title('Demand and Supply by Region')\n",
        "plt.show()\n"
      ]
    },
    {
      "cell_type": "code",
      "source": [],
      "metadata": {
        "id": "cYUWT54EB87p"
      },
      "id": "cYUWT54EB87p",
      "execution_count": null,
      "outputs": []
    },
    {
      "cell_type": "markdown",
      "source": [
        "\n",
        "\n",
        "# Observations:\n",
        "\n",
        "# - Region 0 has the highest demand for both categories, followed by regions 1 and 2.\n",
        "# - Region 3 has the lowest demand for both categories.\n",
        "# - The supply of category 0 is relatively higher in regions 0 and 1 compared to category 1.\n",
        "# - The supply of category 1 is relatively higher in regions 2 and 3 compared to category 0.\n",
        "\n",
        "# Suggestions:\n",
        "\n",
        "# - Target marketing efforts for category 0 towards regions 0, 1, and 2.\n",
        "# - Target marketing efforts for category 1 towards regions 2 and 3.\n",
        "# - Explore opportunities to increase the supply of category 0 in regions 3, 4, and 5.\n",
        "# - Explore opportunities to increase the supply of category 1 in regions 0 and 1.\n",
        "# - Analyze the reasons behind the higher demand for category 0 in certain regions and tailor product offerings or marketing strategies accordingly.\n",
        "# - Monitor the geographical distribution of demand and supply over time to identify any shifts in patterns.\n"
      ],
      "metadata": {
        "id": "gDOcNKqSCBtP"
      },
      "id": "gDOcNKqSCBtP"
    },
    {
      "cell_type": "code",
      "execution_count": null,
      "id": "4df65ce6-09f0-473c-baf6-d426b0cea5d5",
      "metadata": {
        "id": "4df65ce6-09f0-473c-baf6-d426b0cea5d5",
        "outputId": "2a056ec1-8993-4230-98b2-3111451ad12f"
      },
      "outputs": [
        {
          "name": "stderr",
          "output_type": "stream",
          "text": [
            "C:\\Users\\gajja\\AppData\\Local\\Temp\\ipykernel_7544\\1843703436.py:2: UserWarning: Converting to PeriodArray/Index representation will drop timezone information.\n",
            "  dff['month_year'] = dff['posted_date'].dt.to_period('M')\n"
          ]
        },
        {
          "data": {
            "image/png": "[encoded data removed]",
            "text/plain": [
              "<Figure size 1400x700 with 1 Axes>"
            ]
          },
          "metadata": {},
          "output_type": "display_data"
        }
      ],
      "source": [
        "dff['posted_date'] = pd.to_datetime(dff['posted_date'])\n",
        "dff['month_year'] = dff['posted_date'].dt.to_period('M')\n",
        "\n",
        "# Plotting advertisements over time\n",
        "plt.figure(figsize=(14, 7))\n",
        "dff.groupby('month_year').size().plot()\n",
        "plt.title('Advertisements Over Time')\n",
        "plt.xlabel('Month-Year')\n",
        "plt.ylabel('Number of Ads')\n",
        "plt.show()\n"
      ]
    },
    {
      "cell_type": "code",
      "source": [],
      "metadata": {
        "id": "dkuxUTaLCE5s"
      },
      "id": "dkuxUTaLCE5s",
      "execution_count": null,
      "outputs": []
    },
    {
      "cell_type": "markdown",
      "source": [
        "\n",
        "\n",
        "# Observations:\n",
        "\n",
        "# - There is a general upward trend in the number of advertisements over time.\n",
        "# - The number of advertisements significantly increased from 2020-03 to 2020-04.\n",
        "# - There is a slight dip in the number of advertisements in 2020-05.\n",
        "# - The number of advertisements has been relatively stable since 2020-06.\n",
        "\n",
        "# Suggestions:\n",
        "\n",
        "# - Monitor the trend in the number of advertisements over time to identify any seasonal patterns or changes in demand.\n",
        "# - Investigate the reasons behind the significant increase in advertisements from 2020-03 to 2020-04.\n",
        "# - Analyze the impact of any external factors (e.g., economic conditions, events) on the number of advertisements.\n",
        "# - Use the insights gained from the analysis to plan marketing campaigns and adjust inventory levels accordingly.\n",
        "# - Consider offering promotions or discounts during periods with lower demand (e.g., 2020-05) to stimulate sales.\n"
      ],
      "metadata": {
        "id": "qKZseyNqCK-L"
      },
      "id": "qKZseyNqCK-L"
    },
    {
      "cell_type": "code",
      "execution_count": null,
      "id": "95e9ff2a-ed7b-4de4-a410-4b2f9980276d",
      "metadata": {
        "id": "95e9ff2a-ed7b-4de4-a410-4b2f9980276d",
        "outputId": "e31089f6-01a1-4fdc-b864-7cad2a02ab7c"
      },
      "outputs": [
        {
          "data": {
            "image/png": "[encoded data removed]",
            "text/plain": [
              "<Figure size 1200x600 with 1 Axes>"
            ]
          },
          "metadata": {},
          "output_type": "display_data"
        }
      ],
      "source": [
        "dff['month'] = dff['posted_date'].dt.month\n",
        "\n",
        "plt.figure(figsize=(12, 6))\n",
        "sns.countplot(x='month', data=dff)\n",
        "plt.title('Seasonal Trends in Advertisements')\n",
        "plt.xlabel('Month')\n",
        "plt.ylabel('Number of Ads')\n",
        "plt.show()\n"
      ]
    },
    {
      "cell_type": "code",
      "source": [
        "\n",
        "\n"
      ],
      "metadata": {
        "id": "92cUcPkTCOG9"
      },
      "id": "92cUcPkTCOG9",
      "execution_count": null,
      "outputs": []
    },
    {
      "cell_type": "markdown",
      "source": [
        "# Observations:\n",
        "\n",
        "# - There is a significant increase in the number of advertisements during the summer months (May to August).\n",
        "# - The number of advertisements remains relatively stable during the rest of the year.\n",
        "\n",
        "# Suggestions:\n",
        "\n",
        "# - Target marketing efforts towards the summer months when demand is highest.\n",
        "# - Offer promotions or discounts during the off-season (September to April) to stimulate sales.\n",
        "# - Analyze the reasons behind the increased demand during the summer months and tailor product offerings or marketing strategies accordingly.\n",
        "# - Monitor the seasonal trends in advertisements over time to identify any changes in patterns.\n"
      ],
      "metadata": {
        "id": "wWkeWJ4JCVvs"
      },
      "id": "wWkeWJ4JCVvs"
    },
    {
      "cell_type": "code",
      "execution_count": null,
      "id": "110307ec-326d-4c9b-bb4f-314b1055c4b9",
      "metadata": {
        "id": "110307ec-326d-4c9b-bb4f-314b1055c4b9",
        "outputId": "8c424401-ef11-4727-e4f9-a11295f05fe7"
      },
      "outputs": [
        {
          "ename": "ValueError",
          "evalue": "could not convert string to float: 'Tata Dimo Lokka 2014 | Kamburugamuwa | ikman'",
          "output_type": "error",
          "traceback": [
            "\u001b[1;31m---------------------------------------------------------------------------\u001b[0m",
            "\u001b[1;31mValueError\u001b[0m                                Traceback (most recent call last)",
            "Cell \u001b[1;32mIn[32], line 14\u001b[0m\n\u001b[0;32m     12\u001b[0m \u001b[38;5;66;03m# Train the model\u001b[39;00m\n\u001b[0;32m     13\u001b[0m model \u001b[38;5;241m=\u001b[39m LinearRegression()\n\u001b[1;32m---> 14\u001b[0m \u001b[43mmodel\u001b[49m\u001b[38;5;241;43m.\u001b[39;49m\u001b[43mfit\u001b[49m\u001b[43m(\u001b[49m\u001b[43mX_train\u001b[49m\u001b[43m,\u001b[49m\u001b[43m \u001b[49m\u001b[43my_train\u001b[49m\u001b[43m)\u001b[49m\n\u001b[0;32m     16\u001b[0m \u001b[38;5;66;03m# Predictions\u001b[39;00m\n\u001b[0;32m     17\u001b[0m y_pred \u001b[38;5;241m=\u001b[39m model\u001b[38;5;241m.\u001b[39mpredict(X_test)\n",
            "File \u001b[1;32m~\\AppData\\Local\\Programs\\Python\\Python312\\Lib\\site-packages\\sklearn\\base.py:1473\u001b[0m, in \u001b[0;36m_fit_context.<locals>.decorator.<locals>.wrapper\u001b[1;34m(estimator, *args, **kwargs)\u001b[0m\n\u001b[0;32m   1466\u001b[0m     estimator\u001b[38;5;241m.\u001b[39m_validate_params()\n\u001b[0;32m   1468\u001b[0m \u001b[38;5;28;01mwith\u001b[39;00m config_context(\n\u001b[0;32m   1469\u001b[0m     skip_parameter_validation\u001b[38;5;241m=\u001b[39m(\n\u001b[0;32m   1470\u001b[0m         prefer_skip_nested_validation \u001b[38;5;129;01mor\u001b[39;00m global_skip_validation\n\u001b[0;32m   1471\u001b[0m     )\n\u001b[0;32m   1472\u001b[0m ):\n\u001b[1;32m-> 1473\u001b[0m     \u001b[38;5;28;01mreturn\u001b[39;00m \u001b[43mfit_method\u001b[49m\u001b[43m(\u001b[49m\u001b[43mestimator\u001b[49m\u001b[43m,\u001b[49m\u001b[43m \u001b[49m\u001b[38;5;241;43m*\u001b[39;49m\u001b[43margs\u001b[49m\u001b[43m,\u001b[49m\u001b[43m \u001b[49m\u001b[38;5;241;43m*\u001b[39;49m\u001b[38;5;241;43m*\u001b[39;49m\u001b[43mkwargs\u001b[49m\u001b[43m)\u001b[49m\n",
            "File \u001b[1;32m~\\AppData\\Local\\Programs\\Python\\Python312\\Lib\\site-packages\\sklearn\\linear_model\\_base.py:624\u001b[0m, in \u001b[0;36mLinearRegression.fit\u001b[1;34m(self, X, y, sample_weight)\u001b[0m\n\u001b[0;32m    619\u001b[0m \u001b[38;5;66;03m# Note that neither _rescale_data nor the rest of the fit method of\u001b[39;00m\n\u001b[0;32m    620\u001b[0m \u001b[38;5;66;03m# LinearRegression can benefit from in-place operations when X is a\u001b[39;00m\n\u001b[0;32m    621\u001b[0m \u001b[38;5;66;03m# sparse matrix. Therefore, let's not copy X when it is sparse.\u001b[39;00m\n\u001b[0;32m    622\u001b[0m copy_X_in_preprocess_data \u001b[38;5;241m=\u001b[39m \u001b[38;5;28mself\u001b[39m\u001b[38;5;241m.\u001b[39mcopy_X \u001b[38;5;129;01mand\u001b[39;00m \u001b[38;5;129;01mnot\u001b[39;00m sp\u001b[38;5;241m.\u001b[39missparse(X)\n\u001b[1;32m--> 624\u001b[0m X, y, X_offset, y_offset, X_scale \u001b[38;5;241m=\u001b[39m \u001b[43m_preprocess_data\u001b[49m\u001b[43m(\u001b[49m\n\u001b[0;32m    625\u001b[0m \u001b[43m    \u001b[49m\u001b[43mX\u001b[49m\u001b[43m,\u001b[49m\n\u001b[0;32m    626\u001b[0m \u001b[43m    \u001b[49m\u001b[43my\u001b[49m\u001b[43m,\u001b[49m\n\u001b[0;32m    627\u001b[0m \u001b[43m    \u001b[49m\u001b[43mfit_intercept\u001b[49m\u001b[38;5;241;43m=\u001b[39;49m\u001b[38;5;28;43mself\u001b[39;49m\u001b[38;5;241;43m.\u001b[39;49m\u001b[43mfit_intercept\u001b[49m\u001b[43m,\u001b[49m\n\u001b[0;32m    628\u001b[0m \u001b[43m    \u001b[49m\u001b[43mcopy\u001b[49m\u001b[38;5;241;43m=\u001b[39;49m\u001b[43mcopy_X_in_preprocess_data\u001b[49m\u001b[43m,\u001b[49m\n\u001b[0;32m    629\u001b[0m \u001b[43m    \u001b[49m\u001b[43msample_weight\u001b[49m\u001b[38;5;241;43m=\u001b[39;49m\u001b[43msample_weight\u001b[49m\u001b[43m,\u001b[49m\n\u001b[0;32m    630\u001b[0m \u001b[43m\u001b[49m\u001b[43m)\u001b[49m\n\u001b[0;32m    632\u001b[0m \u001b[38;5;28;01mif\u001b[39;00m has_sw:\n\u001b[0;32m    633\u001b[0m     \u001b[38;5;66;03m# Sample weight can be implemented via a simple rescaling. Note\u001b[39;00m\n\u001b[0;32m    634\u001b[0m     \u001b[38;5;66;03m# that we safely do inplace rescaling when _preprocess_data has\u001b[39;00m\n\u001b[0;32m    635\u001b[0m     \u001b[38;5;66;03m# already made a copy if requested.\u001b[39;00m\n\u001b[0;32m    636\u001b[0m     X, y, sample_weight_sqrt \u001b[38;5;241m=\u001b[39m _rescale_data(\n\u001b[0;32m    637\u001b[0m         X, y, sample_weight, inplace\u001b[38;5;241m=\u001b[39mcopy_X_in_preprocess_data\n\u001b[0;32m    638\u001b[0m     )\n",
            "File \u001b[1;32m~\\AppData\\Local\\Programs\\Python\\Python312\\Lib\\site-packages\\sklearn\\linear_model\\_base.py:175\u001b[0m, in \u001b[0;36m_preprocess_data\u001b[1;34m(X, y, fit_intercept, copy, copy_y, sample_weight, check_input)\u001b[0m\n\u001b[0;32m    172\u001b[0m     sample_weight \u001b[38;5;241m=\u001b[39m xp\u001b[38;5;241m.\u001b[39masarray(sample_weight)\n\u001b[0;32m    174\u001b[0m \u001b[38;5;28;01mif\u001b[39;00m check_input:\n\u001b[1;32m--> 175\u001b[0m     X \u001b[38;5;241m=\u001b[39m \u001b[43mcheck_array\u001b[49m\u001b[43m(\u001b[49m\n\u001b[0;32m    176\u001b[0m \u001b[43m        \u001b[49m\u001b[43mX\u001b[49m\u001b[43m,\u001b[49m\u001b[43m \u001b[49m\u001b[43mcopy\u001b[49m\u001b[38;5;241;43m=\u001b[39;49m\u001b[43mcopy\u001b[49m\u001b[43m,\u001b[49m\u001b[43m \u001b[49m\u001b[43maccept_sparse\u001b[49m\u001b[38;5;241;43m=\u001b[39;49m\u001b[43m[\u001b[49m\u001b[38;5;124;43m\"\u001b[39;49m\u001b[38;5;124;43mcsr\u001b[39;49m\u001b[38;5;124;43m\"\u001b[39;49m\u001b[43m,\u001b[49m\u001b[43m \u001b[49m\u001b[38;5;124;43m\"\u001b[39;49m\u001b[38;5;124;43mcsc\u001b[39;49m\u001b[38;5;124;43m\"\u001b[39;49m\u001b[43m]\u001b[49m\u001b[43m,\u001b[49m\u001b[43m \u001b[49m\u001b[43mdtype\u001b[49m\u001b[38;5;241;43m=\u001b[39;49m\u001b[43msupported_float_dtypes\u001b[49m\u001b[43m(\u001b[49m\u001b[43mxp\u001b[49m\u001b[43m)\u001b[49m\n\u001b[0;32m    177\u001b[0m \u001b[43m    \u001b[49m\u001b[43m)\u001b[49m\n\u001b[0;32m    178\u001b[0m     y \u001b[38;5;241m=\u001b[39m check_array(y, dtype\u001b[38;5;241m=\u001b[39mX\u001b[38;5;241m.\u001b[39mdtype, copy\u001b[38;5;241m=\u001b[39mcopy_y, ensure_2d\u001b[38;5;241m=\u001b[39m\u001b[38;5;28;01mFalse\u001b[39;00m)\n\u001b[0;32m    179\u001b[0m \u001b[38;5;28;01melse\u001b[39;00m:\n",
            "File \u001b[1;32m~\\AppData\\Local\\Programs\\Python\\Python312\\Lib\\site-packages\\sklearn\\utils\\validation.py:1007\u001b[0m, in \u001b[0;36mcheck_array\u001b[1;34m(array, accept_sparse, accept_large_sparse, dtype, order, copy, force_all_finite, ensure_2d, allow_nd, ensure_min_samples, ensure_min_features, estimator, input_name)\u001b[0m\n\u001b[0;32m   1005\u001b[0m         array \u001b[38;5;241m=\u001b[39m xp\u001b[38;5;241m.\u001b[39mastype(array, dtype, copy\u001b[38;5;241m=\u001b[39m\u001b[38;5;28;01mFalse\u001b[39;00m)\n\u001b[0;32m   1006\u001b[0m     \u001b[38;5;28;01melse\u001b[39;00m:\n\u001b[1;32m-> 1007\u001b[0m         array \u001b[38;5;241m=\u001b[39m \u001b[43m_asarray_with_order\u001b[49m\u001b[43m(\u001b[49m\u001b[43marray\u001b[49m\u001b[43m,\u001b[49m\u001b[43m \u001b[49m\u001b[43morder\u001b[49m\u001b[38;5;241;43m=\u001b[39;49m\u001b[43morder\u001b[49m\u001b[43m,\u001b[49m\u001b[43m \u001b[49m\u001b[43mdtype\u001b[49m\u001b[38;5;241;43m=\u001b[39;49m\u001b[43mdtype\u001b[49m\u001b[43m,\u001b[49m\u001b[43m \u001b[49m\u001b[43mxp\u001b[49m\u001b[38;5;241;43m=\u001b[39;49m\u001b[43mxp\u001b[49m\u001b[43m)\u001b[49m\n\u001b[0;32m   1008\u001b[0m \u001b[38;5;28;01mexcept\u001b[39;00m ComplexWarning \u001b[38;5;28;01mas\u001b[39;00m complex_warning:\n\u001b[0;32m   1009\u001b[0m     \u001b[38;5;28;01mraise\u001b[39;00m \u001b[38;5;167;01mValueError\u001b[39;00m(\n\u001b[0;32m   1010\u001b[0m         \u001b[38;5;124m\"\u001b[39m\u001b[38;5;124mComplex data not supported\u001b[39m\u001b[38;5;130;01m\\n\u001b[39;00m\u001b[38;5;132;01m{}\u001b[39;00m\u001b[38;5;130;01m\\n\u001b[39;00m\u001b[38;5;124m\"\u001b[39m\u001b[38;5;241m.\u001b[39mformat(array)\n\u001b[0;32m   1011\u001b[0m     ) \u001b[38;5;28;01mfrom\u001b[39;00m \u001b[38;5;21;01mcomplex_warning\u001b[39;00m\n",
            "File \u001b[1;32m~\\AppData\\Local\\Programs\\Python\\Python312\\Lib\\site-packages\\sklearn\\utils\\_array_api.py:746\u001b[0m, in \u001b[0;36m_asarray_with_order\u001b[1;34m(array, dtype, order, copy, xp, device)\u001b[0m\n\u001b[0;32m    744\u001b[0m     array \u001b[38;5;241m=\u001b[39m numpy\u001b[38;5;241m.\u001b[39marray(array, order\u001b[38;5;241m=\u001b[39morder, dtype\u001b[38;5;241m=\u001b[39mdtype)\n\u001b[0;32m    745\u001b[0m \u001b[38;5;28;01melse\u001b[39;00m:\n\u001b[1;32m--> 746\u001b[0m     array \u001b[38;5;241m=\u001b[39m \u001b[43mnumpy\u001b[49m\u001b[38;5;241;43m.\u001b[39;49m\u001b[43masarray\u001b[49m\u001b[43m(\u001b[49m\u001b[43marray\u001b[49m\u001b[43m,\u001b[49m\u001b[43m \u001b[49m\u001b[43morder\u001b[49m\u001b[38;5;241;43m=\u001b[39;49m\u001b[43morder\u001b[49m\u001b[43m,\u001b[49m\u001b[43m \u001b[49m\u001b[43mdtype\u001b[49m\u001b[38;5;241;43m=\u001b[39;49m\u001b[43mdtype\u001b[49m\u001b[43m)\u001b[49m\n\u001b[0;32m    748\u001b[0m \u001b[38;5;66;03m# At this point array is a NumPy ndarray. We convert it to an array\u001b[39;00m\n\u001b[0;32m    749\u001b[0m \u001b[38;5;66;03m# container that is consistent with the input's namespace.\u001b[39;00m\n\u001b[0;32m    750\u001b[0m \u001b[38;5;28;01mreturn\u001b[39;00m xp\u001b[38;5;241m.\u001b[39masarray(array)\n",
            "\u001b[1;31mValueError\u001b[0m: could not convert string to float: 'Tata Dimo Lokka 2014 | Kamburugamuwa | ikman'"
          ]
        }
      ],
      "source": []
    },
    {
      "cell_type": "code",
      "execution_count": null,
      "id": "ab4655cb-af02-472d-b52e-017877ed2fda",
      "metadata": {
        "id": "ab4655cb-af02-472d-b52e-017877ed2fda"
      },
      "outputs": [],
      "source": []
    }
  ],
  "metadata": {
    "kernelspec": {
      "display_name": "Python 3 (ipykernel)",
      "language": "python",
      "name": "python3"
    },
    "language_info": {
      "codemirror_mode": {
        "name": "ipython",
        "version": 3
      },
      "file_extension": ".py",
      "mimetype": "text/x-python",
      "name": "python",
      "nbconvert_exporter": "python",
      "pygments_lexer": "ipython3",
      "version": "3.12.2"
    },
    "colab": {
      "provenance": []
    }
  },
  "nbformat": 4,
  "nbformat_minor": 5
}