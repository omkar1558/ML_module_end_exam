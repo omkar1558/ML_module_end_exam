{
  "cells": [
    {
      "cell_type": "code",
      "execution_count": null,
      "metadata": {
        "id": "40raMaHcLHD4"
      },
      "outputs": [],
      "source": [
        "import pandas as pd\n",
        "import numpy as np\n",
        "import matplotlib.pyplot as plt\n",
        "import seaborn as sns\n",
        "import pandas as pd\n",
        "import numpy as np\n",
        "import matplotlib.pyplot as plt\n",
        "import seaborn as sns\n",
        "from sklearn.preprocessing import LabelEncoder, StandardScaler\n",
        "from sklearn.impute import SimpleImputer\n",
        "from sklearn.decomposition import PCA\n",
        "from sklearn.cluster import KMeans\n",
        "from sklearn.metrics import silhouette_score, calinski_harabasz_score, davies_bouldin_score\n",
        "from sklearn.model_selection import train_test_split\n",
        "from sklearn.decomposition import PCA\n",
        "from sklearn.model_selection import cross_val_score\n",
        "from sklearn.model_selection import train_test_split"
      ]
    },
    {
      "cell_type": "code",
      "execution_count": null,
      "metadata": {
        "colab": {
          "base_uri": "https://localhost:8080/"
        },
        "id": "oZrZx_MQLUFK",
        "outputId": "d4f5c408-3199-4e0b-fa2d-b6d5ef20ef4b"
      },
      "outputs": [
        {
          "output_type": "stream",
          "name": "stdout",
          "text": [
            "Mounted at /content/drive\n"
          ]
        }
      ],
      "source": [
        "from google.colab import drive\n",
        "drive.mount('/content/drive')"
      ]
    },
    {
      "cell_type": "code",
      "execution_count": null,
      "metadata": {
        "id": "ttY7dpNOLlpE"
      },
      "outputs": [],
      "source": [
        "df=pd.read_csv(r'/content/drive/MyDrive/EXAMML/vehicles.csv')"
      ]
    },
    {
      "cell_type": "markdown",
      "metadata": {
        "id": "m5kMWON9Md21"
      },
      "source": [
        "\n",
        "# **Section 2: User Segmentation**\n",
        "Problem Statement:\n",
        "Segment users based on their advertisement behaviors and characteristics."
      ]
    },
    {
      "cell_type": "markdown",
      "metadata": {
        "id": "8JS-hcm7Mun7"
      },
      "source": [
        "# **Data Preprocessing:**\n",
        "1. Handle missing values.\n",
        "2. Encode categorical variables."
      ]
    },
    {
      "cell_type": "code",
      "execution_count": null,
      "metadata": {
        "colab": {
          "base_uri": "https://localhost:8080/",
          "height": 689
        },
        "id": "UdoZFRF6MV0l",
        "outputId": "259037a8-22a4-423f-e8db-90d96d514d78"
      },
      "outputs": [
        {
          "output_type": "execute_result",
          "data": {
            "text/plain": [
              "                                            ad_title  \\\n",
              "0     Nissan Tiida Alternator  in Maharagama | ikman   \n",
              "1              Axio 165 Tail Light  in Kotte | ikman   \n",
              "2     Axio 165 / 161 Head light  in Kotte | ikman.lk   \n",
              "3   Vigo side step ( Foot board)  in Kottawa | ikman   \n",
              "4  Vigo Dickey Door Garnish Cover  in Kottawa | i...   \n",
              "\n",
              "                                      ad_description details  \\\n",
              "0  **TISSA AUTO PARTS** Dealer of used Japanese m...     NaN   \n",
              "1  Imported from Japan \\n\\nRight side available \\...     NaN   \n",
              "2  Imported from Japan \\n\\nAuto focus headlight a...     NaN   \n",
              "3  Hilux Vigo side step\\nBrand New Thaiwan\\nGood ...     NaN   \n",
              "4  Hilux Vigo ( 2005, 2009 ) dickey door garnish set     NaN   \n",
              "\n",
              "                                                slug  \\\n",
              "0         nissan-tiida-alternator-for-sale-colombo-3   \n",
              "1            axio-165-tail-light-for-sale-colombo-14   \n",
              "2           axio-165-161-head-light-for-sale-colombo   \n",
              "3         vigo-side-step-foot-board-for-sale-colombo   \n",
              "4  vigo-dickey-door-garnish-cover-for-sale-colombo-1   \n",
              "\n",
              "                            title      type      price        timestamp  \\\n",
              "0         Nissan Tiida Alternator  for_sale  Rs 18,000  23 Feb 11:35 pm   \n",
              "1             Axio 165 Tail Light  for_sale  Rs 67,000   23 Feb 8:32 am   \n",
              "2       Axio 165 / 161 Head light  for_sale  Rs 85,000   01 Dec 8:27 pm   \n",
              "3    Vigo side step ( Foot board)  for_sale  Rs 47,000   04 Dec 2:47 pm   \n",
              "4  Vigo Dickey Door Garnish Cover  for_sale   Rs 9,000   08 Dec 9:28 am   \n",
              "\n",
              "                 posted_date         deactivation_date  ...  \\\n",
              "0  2023-02-23T23:35:10+05:30  2022-05-30T17:13:04.000Z  ...   \n",
              "1  2023-02-23T08:32:44+05:30  2022-03-31T16:27:59.000Z  ...   \n",
              "2  2022-12-01T20:27:49+05:30  2022-03-31T14:03:57.000Z  ...   \n",
              "3  2022-12-04T14:47:27+05:30  2022-07-29T13:22:59.000Z  ...   \n",
              "4  2022-12-08T09:28:04+05:30  2022-07-29T12:55:44.000Z  ...   \n",
              "\n",
              "  is_doorstep_delivery is_dsd_applicable is_member is_authorized_dealer  \\\n",
              "0                False             False      True                False   \n",
              "1                False             False      True                False   \n",
              "2                False             False      True                False   \n",
              "3                False             False      True                False   \n",
              "4                False             False      True                False   \n",
              "\n",
              "  is_featured_member  is_verified  membership_level    member_since  \\\n",
              "0              False         True           premium  September 2019   \n",
              "1              False         True              plus       June 2018   \n",
              "2              False         True              plus       June 2018   \n",
              "3              False        False              plus   February 2017   \n",
              "4              False        False              plus   February 2017   \n",
              "\n",
              "                                          properties  \\\n",
              "0  {'Condition': 'Reconditioned', 'Part or Access...   \n",
              "1  {'Condition': 'Reconditioned', 'Part or Access...   \n",
              "2  {'Condition': 'Reconditioned', 'Part or Access...   \n",
              "3  {'Condition': 'New', 'Part or Accessory Type':...   \n",
              "4  {'Condition': 'New', 'Part or Accessory Type':...   \n",
              "\n",
              "                                                user  \n",
              "0  a6681dea494390daa516a6d2bdcb36e08c318574a13413...  \n",
              "1  5d99b8e45a1bb318079da7a36392d9025e1644cb49ecbf...  \n",
              "2  5d99b8e45a1bb318079da7a36392d9025e1644cb49ecbf...  \n",
              "3  634d93e14a62d9de7b400ee3679ae1d5506f4252ff0580...  \n",
              "4  634d93e14a62d9de7b400ee3679ae1d5506f4252ff0580...  \n",
              "\n",
              "[5 rows x 26 columns]"
            ],
            "text/html": [
              "\n",
              "  <div id=\"df-98766ce3-2dc3-49a5-a3af-1632d3327c9e\" class=\"colab-df-container\">\n",
              "    <div>\n",
              "<style scoped>\n",
              "    .dataframe tbody tr th:only-of-type {\n",
              "        vertical-align: middle;\n",
              "    }\n",
              "\n",
              "    .dataframe tbody tr th {\n",
              "        vertical-align: top;\n",
              "    }\n",
              "\n",
              "    .dataframe thead th {\n",
              "        text-align: right;\n",
              "    }\n",
              "</style>\n",
              "<table border=\"1\" class=\"dataframe\">\n",
              "  <thead>\n",
              "    <tr style=\"text-align: right;\">\n",
              "      <th></th>\n",
              "      <th>ad_title</th>\n",
              "      <th>ad_description</th>\n",
              "      <th>details</th>\n",
              "      <th>slug</th>\n",
              "      <th>title</th>\n",
              "      <th>type</th>\n",
              "      <th>price</th>\n",
              "      <th>timestamp</th>\n",
              "      <th>posted_date</th>\n",
              "      <th>deactivation_date</th>\n",
              "      <th>...</th>\n",
              "      <th>is_doorstep_delivery</th>\n",
              "      <th>is_dsd_applicable</th>\n",
              "      <th>is_member</th>\n",
              "      <th>is_authorized_dealer</th>\n",
              "      <th>is_featured_member</th>\n",
              "      <th>is_verified</th>\n",
              "      <th>membership_level</th>\n",
              "      <th>member_since</th>\n",
              "      <th>properties</th>\n",
              "      <th>user</th>\n",
              "    </tr>\n",
              "  </thead>\n",
              "  <tbody>\n",
              "    <tr>\n",
              "      <th>0</th>\n",
              "      <td>Nissan Tiida Alternator  in Maharagama | ikman</td>\n",
              "      <td>**TISSA AUTO PARTS** Dealer of used Japanese m...</td>\n",
              "      <td>NaN</td>\n",
              "      <td>nissan-tiida-alternator-for-sale-colombo-3</td>\n",
              "      <td>Nissan Tiida Alternator</td>\n",
              "      <td>for_sale</td>\n",
              "      <td>Rs 18,000</td>\n",
              "      <td>23 Feb 11:35 pm</td>\n",
              "      <td>2023-02-23T23:35:10+05:30</td>\n",
              "      <td>2022-05-30T17:13:04.000Z</td>\n",
              "      <td>...</td>\n",
              "      <td>False</td>\n",
              "      <td>False</td>\n",
              "      <td>True</td>\n",
              "      <td>False</td>\n",
              "      <td>False</td>\n",
              "      <td>True</td>\n",
              "      <td>premium</td>\n",
              "      <td>September 2019</td>\n",
              "      <td>{'Condition': 'Reconditioned', 'Part or Access...</td>\n",
              "      <td>a6681dea494390daa516a6d2bdcb36e08c318574a13413...</td>\n",
              "    </tr>\n",
              "    <tr>\n",
              "      <th>1</th>\n",
              "      <td>Axio 165 Tail Light  in Kotte | ikman</td>\n",
              "      <td>Imported from Japan \\n\\nRight side available \\...</td>\n",
              "      <td>NaN</td>\n",
              "      <td>axio-165-tail-light-for-sale-colombo-14</td>\n",
              "      <td>Axio 165 Tail Light</td>\n",
              "      <td>for_sale</td>\n",
              "      <td>Rs 67,000</td>\n",
              "      <td>23 Feb 8:32 am</td>\n",
              "      <td>2023-02-23T08:32:44+05:30</td>\n",
              "      <td>2022-03-31T16:27:59.000Z</td>\n",
              "      <td>...</td>\n",
              "      <td>False</td>\n",
              "      <td>False</td>\n",
              "      <td>True</td>\n",
              "      <td>False</td>\n",
              "      <td>False</td>\n",
              "      <td>True</td>\n",
              "      <td>plus</td>\n",
              "      <td>June 2018</td>\n",
              "      <td>{'Condition': 'Reconditioned', 'Part or Access...</td>\n",
              "      <td>5d99b8e45a1bb318079da7a36392d9025e1644cb49ecbf...</td>\n",
              "    </tr>\n",
              "    <tr>\n",
              "      <th>2</th>\n",
              "      <td>Axio 165 / 161 Head light  in Kotte | ikman.lk</td>\n",
              "      <td>Imported from Japan \\n\\nAuto focus headlight a...</td>\n",
              "      <td>NaN</td>\n",
              "      <td>axio-165-161-head-light-for-sale-colombo</td>\n",
              "      <td>Axio 165 / 161 Head light</td>\n",
              "      <td>for_sale</td>\n",
              "      <td>Rs 85,000</td>\n",
              "      <td>01 Dec 8:27 pm</td>\n",
              "      <td>2022-12-01T20:27:49+05:30</td>\n",
              "      <td>2022-03-31T14:03:57.000Z</td>\n",
              "      <td>...</td>\n",
              "      <td>False</td>\n",
              "      <td>False</td>\n",
              "      <td>True</td>\n",
              "      <td>False</td>\n",
              "      <td>False</td>\n",
              "      <td>True</td>\n",
              "      <td>plus</td>\n",
              "      <td>June 2018</td>\n",
              "      <td>{'Condition': 'Reconditioned', 'Part or Access...</td>\n",
              "      <td>5d99b8e45a1bb318079da7a36392d9025e1644cb49ecbf...</td>\n",
              "    </tr>\n",
              "    <tr>\n",
              "      <th>3</th>\n",
              "      <td>Vigo side step ( Foot board)  in Kottawa | ikman</td>\n",
              "      <td>Hilux Vigo side step\\nBrand New Thaiwan\\nGood ...</td>\n",
              "      <td>NaN</td>\n",
              "      <td>vigo-side-step-foot-board-for-sale-colombo</td>\n",
              "      <td>Vigo side step ( Foot board)</td>\n",
              "      <td>for_sale</td>\n",
              "      <td>Rs 47,000</td>\n",
              "      <td>04 Dec 2:47 pm</td>\n",
              "      <td>2022-12-04T14:47:27+05:30</td>\n",
              "      <td>2022-07-29T13:22:59.000Z</td>\n",
              "      <td>...</td>\n",
              "      <td>False</td>\n",
              "      <td>False</td>\n",
              "      <td>True</td>\n",
              "      <td>False</td>\n",
              "      <td>False</td>\n",
              "      <td>False</td>\n",
              "      <td>plus</td>\n",
              "      <td>February 2017</td>\n",
              "      <td>{'Condition': 'New', 'Part or Accessory Type':...</td>\n",
              "      <td>634d93e14a62d9de7b400ee3679ae1d5506f4252ff0580...</td>\n",
              "    </tr>\n",
              "    <tr>\n",
              "      <th>4</th>\n",
              "      <td>Vigo Dickey Door Garnish Cover  in Kottawa | i...</td>\n",
              "      <td>Hilux Vigo ( 2005, 2009 ) dickey door garnish set</td>\n",
              "      <td>NaN</td>\n",
              "      <td>vigo-dickey-door-garnish-cover-for-sale-colombo-1</td>\n",
              "      <td>Vigo Dickey Door Garnish Cover</td>\n",
              "      <td>for_sale</td>\n",
              "      <td>Rs 9,000</td>\n",
              "      <td>08 Dec 9:28 am</td>\n",
              "      <td>2022-12-08T09:28:04+05:30</td>\n",
              "      <td>2022-07-29T12:55:44.000Z</td>\n",
              "      <td>...</td>\n",
              "      <td>False</td>\n",
              "      <td>False</td>\n",
              "      <td>True</td>\n",
              "      <td>False</td>\n",
              "      <td>False</td>\n",
              "      <td>False</td>\n",
              "      <td>plus</td>\n",
              "      <td>February 2017</td>\n",
              "      <td>{'Condition': 'New', 'Part or Accessory Type':...</td>\n",
              "      <td>634d93e14a62d9de7b400ee3679ae1d5506f4252ff0580...</td>\n",
              "    </tr>\n",
              "  </tbody>\n",
              "</table>\n",
              "<p>5 rows × 26 columns</p>\n",
              "</div>\n",
              "    <div class=\"colab-df-buttons\">\n",
              "\n",
              "  <div class=\"colab-df-container\">\n",
              "    <button class=\"colab-df-convert\" onclick=\"convertToInteractive('df-98766ce3-2dc3-49a5-a3af-1632d3327c9e')\"\n",
              "            title=\"Convert this dataframe to an interactive table.\"\n",
              "            style=\"display:none;\">\n",
              "\n",
              "  <svg xmlns=\"http://www.w3.org/2000/svg\" height=\"24px\" viewBox=\"0 -960 960 960\">\n",
              "    <path d=\"M120-120v-720h720v720H120Zm60-500h600v-160H180v160Zm220 220h160v-160H400v160Zm0 220h160v-160H400v160ZM180-400h160v-160H180v160Zm440 0h160v-160H620v160ZM180-180h160v-160H180v160Zm440 0h160v-160H620v160Z\"/>\n",
              "  </svg>\n",
              "    </button>\n",
              "\n",
              "  <style>\n",
              "    .colab-df-container {\n",
              "      display:flex;\n",
              "      gap: 12px;\n",
              "    }\n",
              "\n",
              "    .colab-df-convert {\n",
              "      background-color: #E8F0FE;\n",
              "      border: none;\n",
              "      border-radius: 50%;\n",
              "      cursor: pointer;\n",
              "      display: none;\n",
              "      fill: #1967D2;\n",
              "      height: 32px;\n",
              "      padding: 0 0 0 0;\n",
              "      width: 32px;\n",
              "    }\n",
              "\n",
              "    .colab-df-convert:hover {\n",
              "      background-color: #E2EBFA;\n",
              "      box-shadow: 0px 1px 2px rgba(60, 64, 67, 0.3), 0px 1px 3px 1px rgba(60, 64, 67, 0.15);\n",
              "      fill: #174EA6;\n",
              "    }\n",
              "\n",
              "    .colab-df-buttons div {\n",
              "      margin-bottom: 4px;\n",
              "    }\n",
              "\n",
              "    [theme=dark] .colab-df-convert {\n",
              "      background-color: #3B4455;\n",
              "      fill: #D2E3FC;\n",
              "    }\n",
              "\n",
              "    [theme=dark] .colab-df-convert:hover {\n",
              "      background-color: #434B5C;\n",
              "      box-shadow: 0px 1px 3px 1px rgba(0, 0, 0, 0.15);\n",
              "      filter: drop-shadow(0px 1px 2px rgba(0, 0, 0, 0.3));\n",
              "      fill: #FFFFFF;\n",
              "    }\n",
              "  </style>\n",
              "\n",
              "    <script>\n",
              "      const buttonEl =\n",
              "        document.querySelector('#df-98766ce3-2dc3-49a5-a3af-1632d3327c9e button.colab-df-convert');\n",
              "      buttonEl.style.display =\n",
              "        google.colab.kernel.accessAllowed ? 'block' : 'none';\n",
              "\n",
              "      async function convertToInteractive(key) {\n",
              "        const element = document.querySelector('#df-98766ce3-2dc3-49a5-a3af-1632d3327c9e');\n",
              "        const dataTable =\n",
              "          await google.colab.kernel.invokeFunction('convertToInteractive',\n",
              "                                                    [key], {});\n",
              "        if (!dataTable) return;\n",
              "\n",
              "        const docLinkHtml = 'Like what you see? Visit the ' +\n",
              "          '<a target=\"_blank\" href=https://colab.research.google.com/notebooks/data_table.ipynb>data table notebook</a>'\n",
              "          + ' to learn more about interactive tables.';\n",
              "        element.innerHTML = '';\n",
              "        dataTable['output_type'] = 'display_data';\n",
              "        await google.colab.output.renderOutput(dataTable, element);\n",
              "        const docLink = document.createElement('div');\n",
              "        docLink.innerHTML = docLinkHtml;\n",
              "        element.appendChild(docLink);\n",
              "      }\n",
              "    </script>\n",
              "  </div>\n",
              "\n",
              "\n",
              "<div id=\"df-c6788b65-798d-46a9-bca6-626e904859cd\">\n",
              "  <button class=\"colab-df-quickchart\" onclick=\"quickchart('df-c6788b65-798d-46a9-bca6-626e904859cd')\"\n",
              "            title=\"Suggest charts\"\n",
              "            style=\"display:none;\">\n",
              "\n",
              "<svg xmlns=\"http://www.w3.org/2000/svg\" height=\"24px\"viewBox=\"0 0 24 24\"\n",
              "     width=\"24px\">\n",
              "    <g>\n",
              "        <path d=\"M19 3H5c-1.1 0-2 .9-2 2v14c0 1.1.9 2 2 2h14c1.1 0 2-.9 2-2V5c0-1.1-.9-2-2-2zM9 17H7v-7h2v7zm4 0h-2V7h2v10zm4 0h-2v-4h2v4z\"/>\n",
              "    </g>\n",
              "</svg>\n",
              "  </button>\n",
              "\n",
              "<style>\n",
              "  .colab-df-quickchart {\n",
              "      --bg-color: #E8F0FE;\n",
              "      --fill-color: #1967D2;\n",
              "      --hover-bg-color: #E2EBFA;\n",
              "      --hover-fill-color: #174EA6;\n",
              "      --disabled-fill-color: #AAA;\n",
              "      --disabled-bg-color: #DDD;\n",
              "  }\n",
              "\n",
              "  [theme=dark] .colab-df-quickchart {\n",
              "      --bg-color: #3B4455;\n",
              "      --fill-color: #D2E3FC;\n",
              "      --hover-bg-color: #434B5C;\n",
              "      --hover-fill-color: #FFFFFF;\n",
              "      --disabled-bg-color: #3B4455;\n",
              "      --disabled-fill-color: #666;\n",
              "  }\n",
              "\n",
              "  .colab-df-quickchart {\n",
              "    background-color: var(--bg-color);\n",
              "    border: none;\n",
              "    border-radius: 50%;\n",
              "    cursor: pointer;\n",
              "    display: none;\n",
              "    fill: var(--fill-color);\n",
              "    height: 32px;\n",
              "    padding: 0;\n",
              "    width: 32px;\n",
              "  }\n",
              "\n",
              "  .colab-df-quickchart:hover {\n",
              "    background-color: var(--hover-bg-color);\n",
              "    box-shadow: 0 1px 2px rgba(60, 64, 67, 0.3), 0 1px 3px 1px rgba(60, 64, 67, 0.15);\n",
              "    fill: var(--button-hover-fill-color);\n",
              "  }\n",
              "\n",
              "  .colab-df-quickchart-complete:disabled,\n",
              "  .colab-df-quickchart-complete:disabled:hover {\n",
              "    background-color: var(--disabled-bg-color);\n",
              "    fill: var(--disabled-fill-color);\n",
              "    box-shadow: none;\n",
              "  }\n",
              "\n",
              "  .colab-df-spinner {\n",
              "    border: 2px solid var(--fill-color);\n",
              "    border-color: transparent;\n",
              "    border-bottom-color: var(--fill-color);\n",
              "    animation:\n",
              "      spin 1s steps(1) infinite;\n",
              "  }\n",
              "\n",
              "  @keyframes spin {\n",
              "    0% {\n",
              "      border-color: transparent;\n",
              "      border-bottom-color: var(--fill-color);\n",
              "      border-left-color: var(--fill-color);\n",
              "    }\n",
              "    20% {\n",
              "      border-color: transparent;\n",
              "      border-left-color: var(--fill-color);\n",
              "      border-top-color: var(--fill-color);\n",
              "    }\n",
              "    30% {\n",
              "      border-color: transparent;\n",
              "      border-left-color: var(--fill-color);\n",
              "      border-top-color: var(--fill-color);\n",
              "      border-right-color: var(--fill-color);\n",
              "    }\n",
              "    40% {\n",
              "      border-color: transparent;\n",
              "      border-right-color: var(--fill-color);\n",
              "      border-top-color: var(--fill-color);\n",
              "    }\n",
              "    60% {\n",
              "      border-color: transparent;\n",
              "      border-right-color: var(--fill-color);\n",
              "    }\n",
              "    80% {\n",
              "      border-color: transparent;\n",
              "      border-right-color: var(--fill-color);\n",
              "      border-bottom-color: var(--fill-color);\n",
              "    }\n",
              "    90% {\n",
              "      border-color: transparent;\n",
              "      border-bottom-color: var(--fill-color);\n",
              "    }\n",
              "  }\n",
              "</style>\n",
              "\n",
              "  <script>\n",
              "    async function quickchart(key) {\n",
              "      const quickchartButtonEl =\n",
              "        document.querySelector('#' + key + ' button');\n",
              "      quickchartButtonEl.disabled = true;  // To prevent multiple clicks.\n",
              "      quickchartButtonEl.classList.add('colab-df-spinner');\n",
              "      try {\n",
              "        const charts = await google.colab.kernel.invokeFunction(\n",
              "            'suggestCharts', [key], {});\n",
              "      } catch (error) {\n",
              "        console.error('Error during call to suggestCharts:', error);\n",
              "      }\n",
              "      quickchartButtonEl.classList.remove('colab-df-spinner');\n",
              "      quickchartButtonEl.classList.add('colab-df-quickchart-complete');\n",
              "    }\n",
              "    (() => {\n",
              "      let quickchartButtonEl =\n",
              "        document.querySelector('#df-c6788b65-798d-46a9-bca6-626e904859cd button');\n",
              "      quickchartButtonEl.style.display =\n",
              "        google.colab.kernel.accessAllowed ? 'block' : 'none';\n",
              "    })();\n",
              "  </script>\n",
              "</div>\n",
              "\n",
              "    </div>\n",
              "  </div>\n"
            ],
            "application/vnd.google.colaboratory.intrinsic+json": {
              "type": "dataframe",
              "variable_name": "df"
            }
          },
          "metadata": {},
          "execution_count": 4
        }
      ],
      "source": [
        "df.head()"
      ]
    },
    {
      "cell_type": "code",
      "execution_count": null,
      "metadata": {
        "id": "qeXQu7iLMV4I"
      },
      "outputs": [],
      "source": [
        "pd.pandas.set_option(\"display.max_columns\",None)\n",
        "pd.pandas.set_option(\"display.max_rows\",None)"
      ]
    },
    {
      "cell_type": "code",
      "execution_count": null,
      "metadata": {
        "id": "XrzPZxP9MV7F"
      },
      "outputs": [],
      "source": [
        "df2=df.copy()"
      ]
    },
    {
      "cell_type": "code",
      "execution_count": null,
      "metadata": {
        "colab": {
          "base_uri": "https://localhost:8080/",
          "height": 187
        },
        "id": "UlcJv8jVMV8g",
        "outputId": "31b8fcc4-dff2-4e9d-f981-95dad4421234"
      },
      "outputs": [
        {
          "output_type": "execute_result",
          "data": {
            "text/plain": [
              "                                         ad_title  \\\n",
              "0  Nissan Tiida Alternator  in Maharagama | ikman   \n",
              "\n",
              "                                      ad_description details  \\\n",
              "0  **TISSA AUTO PARTS** Dealer of used Japanese m...     NaN   \n",
              "\n",
              "                                         slug                    title  \\\n",
              "0  nissan-tiida-alternator-for-sale-colombo-3  Nissan Tiida Alternator   \n",
              "\n",
              "       type      price        timestamp                posted_date  \\\n",
              "0  for_sale  Rs 18,000  23 Feb 11:35 pm  2023-02-23T23:35:10+05:30   \n",
              "\n",
              "          deactivation_date                  category parent_category  \\\n",
              "0  2022-05-30T17:13:04.000Z  Auto Parts & Accessories        Vehicles   \n",
              "\n",
              "     location geo_region                             area  is_delivery_free  \\\n",
              "0  Maharagama      LK-11  {'id': 1506, 'name': 'Colombo'}             False   \n",
              "\n",
              "   is_doorstep_delivery  is_dsd_applicable is_member is_authorized_dealer  \\\n",
              "0                 False              False      True                False   \n",
              "\n",
              "  is_featured_member  is_verified membership_level    member_since  \\\n",
              "0              False         True          premium  September 2019   \n",
              "\n",
              "                                          properties  \\\n",
              "0  {'Condition': 'Reconditioned', 'Part or Access...   \n",
              "\n",
              "                                                user  \n",
              "0  a6681dea494390daa516a6d2bdcb36e08c318574a13413...  "
            ],
            "text/html": [
              "\n",
              "  <div id=\"df-8e456d91-bcff-4b97-bfbd-1a9c495af412\" class=\"colab-df-container\">\n",
              "    <div>\n",
              "<style scoped>\n",
              "    .dataframe tbody tr th:only-of-type {\n",
              "        vertical-align: middle;\n",
              "    }\n",
              "\n",
              "    .dataframe tbody tr th {\n",
              "        vertical-align: top;\n",
              "    }\n",
              "\n",
              "    .dataframe thead th {\n",
              "        text-align: right;\n",
              "    }\n",
              "</style>\n",
              "<table border=\"1\" class=\"dataframe\">\n",
              "  <thead>\n",
              "    <tr style=\"text-align: right;\">\n",
              "      <th></th>\n",
              "      <th>ad_title</th>\n",
              "      <th>ad_description</th>\n",
              "      <th>details</th>\n",
              "      <th>slug</th>\n",
              "      <th>title</th>\n",
              "      <th>type</th>\n",
              "      <th>price</th>\n",
              "      <th>timestamp</th>\n",
              "      <th>posted_date</th>\n",
              "      <th>deactivation_date</th>\n",
              "      <th>category</th>\n",
              "      <th>parent_category</th>\n",
              "      <th>location</th>\n",
              "      <th>geo_region</th>\n",
              "      <th>area</th>\n",
              "      <th>is_delivery_free</th>\n",
              "      <th>is_doorstep_delivery</th>\n",
              "      <th>is_dsd_applicable</th>\n",
              "      <th>is_member</th>\n",
              "      <th>is_authorized_dealer</th>\n",
              "      <th>is_featured_member</th>\n",
              "      <th>is_verified</th>\n",
              "      <th>membership_level</th>\n",
              "      <th>member_since</th>\n",
              "      <th>properties</th>\n",
              "      <th>user</th>\n",
              "    </tr>\n",
              "  </thead>\n",
              "  <tbody>\n",
              "    <tr>\n",
              "      <th>0</th>\n",
              "      <td>Nissan Tiida Alternator  in Maharagama | ikman</td>\n",
              "      <td>**TISSA AUTO PARTS** Dealer of used Japanese m...</td>\n",
              "      <td>NaN</td>\n",
              "      <td>nissan-tiida-alternator-for-sale-colombo-3</td>\n",
              "      <td>Nissan Tiida Alternator</td>\n",
              "      <td>for_sale</td>\n",
              "      <td>Rs 18,000</td>\n",
              "      <td>23 Feb 11:35 pm</td>\n",
              "      <td>2023-02-23T23:35:10+05:30</td>\n",
              "      <td>2022-05-30T17:13:04.000Z</td>\n",
              "      <td>Auto Parts &amp; Accessories</td>\n",
              "      <td>Vehicles</td>\n",
              "      <td>Maharagama</td>\n",
              "      <td>LK-11</td>\n",
              "      <td>{'id': 1506, 'name': 'Colombo'}</td>\n",
              "      <td>False</td>\n",
              "      <td>False</td>\n",
              "      <td>False</td>\n",
              "      <td>True</td>\n",
              "      <td>False</td>\n",
              "      <td>False</td>\n",
              "      <td>True</td>\n",
              "      <td>premium</td>\n",
              "      <td>September 2019</td>\n",
              "      <td>{'Condition': 'Reconditioned', 'Part or Access...</td>\n",
              "      <td>a6681dea494390daa516a6d2bdcb36e08c318574a13413...</td>\n",
              "    </tr>\n",
              "  </tbody>\n",
              "</table>\n",
              "</div>\n",
              "    <div class=\"colab-df-buttons\">\n",
              "\n",
              "  <div class=\"colab-df-container\">\n",
              "    <button class=\"colab-df-convert\" onclick=\"convertToInteractive('df-8e456d91-bcff-4b97-bfbd-1a9c495af412')\"\n",
              "            title=\"Convert this dataframe to an interactive table.\"\n",
              "            style=\"display:none;\">\n",
              "\n",
              "  <svg xmlns=\"http://www.w3.org/2000/svg\" height=\"24px\" viewBox=\"0 -960 960 960\">\n",
              "    <path d=\"M120-120v-720h720v720H120Zm60-500h600v-160H180v160Zm220 220h160v-160H400v160Zm0 220h160v-160H400v160ZM180-400h160v-160H180v160Zm440 0h160v-160H620v160ZM180-180h160v-160H180v160Zm440 0h160v-160H620v160Z\"/>\n",
              "  </svg>\n",
              "    </button>\n",
              "\n",
              "  <style>\n",
              "    .colab-df-container {\n",
              "      display:flex;\n",
              "      gap: 12px;\n",
              "    }\n",
              "\n",
              "    .colab-df-convert {\n",
              "      background-color: #E8F0FE;\n",
              "      border: none;\n",
              "      border-radius: 50%;\n",
              "      cursor: pointer;\n",
              "      display: none;\n",
              "      fill: #1967D2;\n",
              "      height: 32px;\n",
              "      padding: 0 0 0 0;\n",
              "      width: 32px;\n",
              "    }\n",
              "\n",
              "    .colab-df-convert:hover {\n",
              "      background-color: #E2EBFA;\n",
              "      box-shadow: 0px 1px 2px rgba(60, 64, 67, 0.3), 0px 1px 3px 1px rgba(60, 64, 67, 0.15);\n",
              "      fill: #174EA6;\n",
              "    }\n",
              "\n",
              "    .colab-df-buttons div {\n",
              "      margin-bottom: 4px;\n",
              "    }\n",
              "\n",
              "    [theme=dark] .colab-df-convert {\n",
              "      background-color: #3B4455;\n",
              "      fill: #D2E3FC;\n",
              "    }\n",
              "\n",
              "    [theme=dark] .colab-df-convert:hover {\n",
              "      background-color: #434B5C;\n",
              "      box-shadow: 0px 1px 3px 1px rgba(0, 0, 0, 0.15);\n",
              "      filter: drop-shadow(0px 1px 2px rgba(0, 0, 0, 0.3));\n",
              "      fill: #FFFFFF;\n",
              "    }\n",
              "  </style>\n",
              "\n",
              "    <script>\n",
              "      const buttonEl =\n",
              "        document.querySelector('#df-8e456d91-bcff-4b97-bfbd-1a9c495af412 button.colab-df-convert');\n",
              "      buttonEl.style.display =\n",
              "        google.colab.kernel.accessAllowed ? 'block' : 'none';\n",
              "\n",
              "      async function convertToInteractive(key) {\n",
              "        const element = document.querySelector('#df-8e456d91-bcff-4b97-bfbd-1a9c495af412');\n",
              "        const dataTable =\n",
              "          await google.colab.kernel.invokeFunction('convertToInteractive',\n",
              "                                                    [key], {});\n",
              "        if (!dataTable) return;\n",
              "\n",
              "        const docLinkHtml = 'Like what you see? Visit the ' +\n",
              "          '<a target=\"_blank\" href=https://colab.research.google.com/notebooks/data_table.ipynb>data table notebook</a>'\n",
              "          + ' to learn more about interactive tables.';\n",
              "        element.innerHTML = '';\n",
              "        dataTable['output_type'] = 'display_data';\n",
              "        await google.colab.output.renderOutput(dataTable, element);\n",
              "        const docLink = document.createElement('div');\n",
              "        docLink.innerHTML = docLinkHtml;\n",
              "        element.appendChild(docLink);\n",
              "      }\n",
              "    </script>\n",
              "  </div>\n",
              "\n",
              "\n",
              "    </div>\n",
              "  </div>\n"
            ],
            "application/vnd.google.colaboratory.intrinsic+json": {
              "type": "dataframe",
              "variable_name": "df2"
            }
          },
          "metadata": {},
          "execution_count": 7
        }
      ],
      "source": [
        "df2.head(1)"
      ]
    },
    {
      "cell_type": "markdown",
      "metadata": {
        "id": "EreOvl66NCf9"
      },
      "source": [
        "# **=> DROP UNNESSESORY COLUMNS**"
      ]
    },
    {
      "cell_type": "code",
      "execution_count": null,
      "metadata": {
        "id": "YSVl6SMUMV_Z"
      },
      "outputs": [],
      "source": [
        "df2=df2.drop(columns=['title','ad_title','ad_description','slug','details','parent_category','is_delivery_free','is_doorstep_delivery','is_dsd_applicable','is_featured_member','is_authorized_dealer','user'],axis=1)"
      ]
    },
    {
      "cell_type": "code",
      "execution_count": null,
      "metadata": {
        "colab": {
          "base_uri": "https://localhost:8080/",
          "height": 486
        },
        "id": "qTFVfO9FNHQU",
        "outputId": "8e3d688b-7ec8-4935-ad79-47cfa07d5ec9"
      },
      "outputs": [
        {
          "output_type": "execute_result",
          "data": {
            "text/plain": [
              "       type      price        timestamp                posted_date  \\\n",
              "0  for_sale  Rs 18,000  23 Feb 11:35 pm  2023-02-23T23:35:10+05:30   \n",
              "1  for_sale  Rs 67,000   23 Feb 8:32 am  2023-02-23T08:32:44+05:30   \n",
              "2  for_sale  Rs 85,000   01 Dec 8:27 pm  2022-12-01T20:27:49+05:30   \n",
              "3  for_sale  Rs 47,000   04 Dec 2:47 pm  2022-12-04T14:47:27+05:30   \n",
              "4  for_sale   Rs 9,000   08 Dec 9:28 am  2022-12-08T09:28:04+05:30   \n",
              "\n",
              "          deactivation_date                  category    location geo_region  \\\n",
              "0  2022-05-30T17:13:04.000Z  Auto Parts & Accessories  Maharagama      LK-11   \n",
              "1  2022-03-31T16:27:59.000Z  Auto Parts & Accessories       Kotte      LK-11   \n",
              "2  2022-03-31T14:03:57.000Z  Auto Parts & Accessories       Kotte      LK-11   \n",
              "3  2022-07-29T13:22:59.000Z  Auto Parts & Accessories     Kottawa      LK-11   \n",
              "4  2022-07-29T12:55:44.000Z  Auto Parts & Accessories     Kottawa      LK-11   \n",
              "\n",
              "                              area is_member  is_verified membership_level  \\\n",
              "0  {'id': 1506, 'name': 'Colombo'}      True         True          premium   \n",
              "1  {'id': 1506, 'name': 'Colombo'}      True         True             plus   \n",
              "2  {'id': 1506, 'name': 'Colombo'}      True         True             plus   \n",
              "3  {'id': 1506, 'name': 'Colombo'}      True        False             plus   \n",
              "4  {'id': 1506, 'name': 'Colombo'}      True        False             plus   \n",
              "\n",
              "     member_since                                         properties  \n",
              "0  September 2019  {'Condition': 'Reconditioned', 'Part or Access...  \n",
              "1       June 2018  {'Condition': 'Reconditioned', 'Part or Access...  \n",
              "2       June 2018  {'Condition': 'Reconditioned', 'Part or Access...  \n",
              "3   February 2017  {'Condition': 'New', 'Part or Accessory Type':...  \n",
              "4   February 2017  {'Condition': 'New', 'Part or Accessory Type':...  "
            ],
            "text/html": [
              "\n",
              "  <div id=\"df-2df98197-4a5e-42aa-8bd4-0c213dacc12b\" class=\"colab-df-container\">\n",
              "    <div>\n",
              "<style scoped>\n",
              "    .dataframe tbody tr th:only-of-type {\n",
              "        vertical-align: middle;\n",
              "    }\n",
              "\n",
              "    .dataframe tbody tr th {\n",
              "        vertical-align: top;\n",
              "    }\n",
              "\n",
              "    .dataframe thead th {\n",
              "        text-align: right;\n",
              "    }\n",
              "</style>\n",
              "<table border=\"1\" class=\"dataframe\">\n",
              "  <thead>\n",
              "    <tr style=\"text-align: right;\">\n",
              "      <th></th>\n",
              "      <th>type</th>\n",
              "      <th>price</th>\n",
              "      <th>timestamp</th>\n",
              "      <th>posted_date</th>\n",
              "      <th>deactivation_date</th>\n",
              "      <th>category</th>\n",
              "      <th>location</th>\n",
              "      <th>geo_region</th>\n",
              "      <th>area</th>\n",
              "      <th>is_member</th>\n",
              "      <th>is_verified</th>\n",
              "      <th>membership_level</th>\n",
              "      <th>member_since</th>\n",
              "      <th>properties</th>\n",
              "    </tr>\n",
              "  </thead>\n",
              "  <tbody>\n",
              "    <tr>\n",
              "      <th>0</th>\n",
              "      <td>for_sale</td>\n",
              "      <td>Rs 18,000</td>\n",
              "      <td>23 Feb 11:35 pm</td>\n",
              "      <td>2023-02-23T23:35:10+05:30</td>\n",
              "      <td>2022-05-30T17:13:04.000Z</td>\n",
              "      <td>Auto Parts &amp; Accessories</td>\n",
              "      <td>Maharagama</td>\n",
              "      <td>LK-11</td>\n",
              "      <td>{'id': 1506, 'name': 'Colombo'}</td>\n",
              "      <td>True</td>\n",
              "      <td>True</td>\n",
              "      <td>premium</td>\n",
              "      <td>September 2019</td>\n",
              "      <td>{'Condition': 'Reconditioned', 'Part or Access...</td>\n",
              "    </tr>\n",
              "    <tr>\n",
              "      <th>1</th>\n",
              "      <td>for_sale</td>\n",
              "      <td>Rs 67,000</td>\n",
              "      <td>23 Feb 8:32 am</td>\n",
              "      <td>2023-02-23T08:32:44+05:30</td>\n",
              "      <td>2022-03-31T16:27:59.000Z</td>\n",
              "      <td>Auto Parts &amp; Accessories</td>\n",
              "      <td>Kotte</td>\n",
              "      <td>LK-11</td>\n",
              "      <td>{'id': 1506, 'name': 'Colombo'}</td>\n",
              "      <td>True</td>\n",
              "      <td>True</td>\n",
              "      <td>plus</td>\n",
              "      <td>June 2018</td>\n",
              "      <td>{'Condition': 'Reconditioned', 'Part or Access...</td>\n",
              "    </tr>\n",
              "    <tr>\n",
              "      <th>2</th>\n",
              "      <td>for_sale</td>\n",
              "      <td>Rs 85,000</td>\n",
              "      <td>01 Dec 8:27 pm</td>\n",
              "      <td>2022-12-01T20:27:49+05:30</td>\n",
              "      <td>2022-03-31T14:03:57.000Z</td>\n",
              "      <td>Auto Parts &amp; Accessories</td>\n",
              "      <td>Kotte</td>\n",
              "      <td>LK-11</td>\n",
              "      <td>{'id': 1506, 'name': 'Colombo'}</td>\n",
              "      <td>True</td>\n",
              "      <td>True</td>\n",
              "      <td>plus</td>\n",
              "      <td>June 2018</td>\n",
              "      <td>{'Condition': 'Reconditioned', 'Part or Access...</td>\n",
              "    </tr>\n",
              "    <tr>\n",
              "      <th>3</th>\n",
              "      <td>for_sale</td>\n",
              "      <td>Rs 47,000</td>\n",
              "      <td>04 Dec 2:47 pm</td>\n",
              "      <td>2022-12-04T14:47:27+05:30</td>\n",
              "      <td>2022-07-29T13:22:59.000Z</td>\n",
              "      <td>Auto Parts &amp; Accessories</td>\n",
              "      <td>Kottawa</td>\n",
              "      <td>LK-11</td>\n",
              "      <td>{'id': 1506, 'name': 'Colombo'}</td>\n",
              "      <td>True</td>\n",
              "      <td>False</td>\n",
              "      <td>plus</td>\n",
              "      <td>February 2017</td>\n",
              "      <td>{'Condition': 'New', 'Part or Accessory Type':...</td>\n",
              "    </tr>\n",
              "    <tr>\n",
              "      <th>4</th>\n",
              "      <td>for_sale</td>\n",
              "      <td>Rs 9,000</td>\n",
              "      <td>08 Dec 9:28 am</td>\n",
              "      <td>2022-12-08T09:28:04+05:30</td>\n",
              "      <td>2022-07-29T12:55:44.000Z</td>\n",
              "      <td>Auto Parts &amp; Accessories</td>\n",
              "      <td>Kottawa</td>\n",
              "      <td>LK-11</td>\n",
              "      <td>{'id': 1506, 'name': 'Colombo'}</td>\n",
              "      <td>True</td>\n",
              "      <td>False</td>\n",
              "      <td>plus</td>\n",
              "      <td>February 2017</td>\n",
              "      <td>{'Condition': 'New', 'Part or Accessory Type':...</td>\n",
              "    </tr>\n",
              "  </tbody>\n",
              "</table>\n",
              "</div>\n",
              "    <div class=\"colab-df-buttons\">\n",
              "\n",
              "  <div class=\"colab-df-container\">\n",
              "    <button class=\"colab-df-convert\" onclick=\"convertToInteractive('df-2df98197-4a5e-42aa-8bd4-0c213dacc12b')\"\n",
              "            title=\"Convert this dataframe to an interactive table.\"\n",
              "            style=\"display:none;\">\n",
              "\n",
              "  <svg xmlns=\"http://www.w3.org/2000/svg\" height=\"24px\" viewBox=\"0 -960 960 960\">\n",
              "    <path d=\"M120-120v-720h720v720H120Zm60-500h600v-160H180v160Zm220 220h160v-160H400v160Zm0 220h160v-160H400v160ZM180-400h160v-160H180v160Zm440 0h160v-160H620v160ZM180-180h160v-160H180v160Zm440 0h160v-160H620v160Z\"/>\n",
              "  </svg>\n",
              "    </button>\n",
              "\n",
              "  <style>\n",
              "    .colab-df-container {\n",
              "      display:flex;\n",
              "      gap: 12px;\n",
              "    }\n",
              "\n",
              "    .colab-df-convert {\n",
              "      background-color: #E8F0FE;\n",
              "      border: none;\n",
              "      border-radius: 50%;\n",
              "      cursor: pointer;\n",
              "      display: none;\n",
              "      fill: #1967D2;\n",
              "      height: 32px;\n",
              "      padding: 0 0 0 0;\n",
              "      width: 32px;\n",
              "    }\n",
              "\n",
              "    .colab-df-convert:hover {\n",
              "      background-color: #E2EBFA;\n",
              "      box-shadow: 0px 1px 2px rgba(60, 64, 67, 0.3), 0px 1px 3px 1px rgba(60, 64, 67, 0.15);\n",
              "      fill: #174EA6;\n",
              "    }\n",
              "\n",
              "    .colab-df-buttons div {\n",
              "      margin-bottom: 4px;\n",
              "    }\n",
              "\n",
              "    [theme=dark] .colab-df-convert {\n",
              "      background-color: #3B4455;\n",
              "      fill: #D2E3FC;\n",
              "    }\n",
              "\n",
              "    [theme=dark] .colab-df-convert:hover {\n",
              "      background-color: #434B5C;\n",
              "      box-shadow: 0px 1px 3px 1px rgba(0, 0, 0, 0.15);\n",
              "      filter: drop-shadow(0px 1px 2px rgba(0, 0, 0, 0.3));\n",
              "      fill: #FFFFFF;\n",
              "    }\n",
              "  </style>\n",
              "\n",
              "    <script>\n",
              "      const buttonEl =\n",
              "        document.querySelector('#df-2df98197-4a5e-42aa-8bd4-0c213dacc12b button.colab-df-convert');\n",
              "      buttonEl.style.display =\n",
              "        google.colab.kernel.accessAllowed ? 'block' : 'none';\n",
              "\n",
              "      async function convertToInteractive(key) {\n",
              "        const element = document.querySelector('#df-2df98197-4a5e-42aa-8bd4-0c213dacc12b');\n",
              "        const dataTable =\n",
              "          await google.colab.kernel.invokeFunction('convertToInteractive',\n",
              "                                                    [key], {});\n",
              "        if (!dataTable) return;\n",
              "\n",
              "        const docLinkHtml = 'Like what you see? Visit the ' +\n",
              "          '<a target=\"_blank\" href=https://colab.research.google.com/notebooks/data_table.ipynb>data table notebook</a>'\n",
              "          + ' to learn more about interactive tables.';\n",
              "        element.innerHTML = '';\n",
              "        dataTable['output_type'] = 'display_data';\n",
              "        await google.colab.output.renderOutput(dataTable, element);\n",
              "        const docLink = document.createElement('div');\n",
              "        docLink.innerHTML = docLinkHtml;\n",
              "        element.appendChild(docLink);\n",
              "      }\n",
              "    </script>\n",
              "  </div>\n",
              "\n",
              "\n",
              "<div id=\"df-9076e135-5156-462f-b498-d3e6f405349b\">\n",
              "  <button class=\"colab-df-quickchart\" onclick=\"quickchart('df-9076e135-5156-462f-b498-d3e6f405349b')\"\n",
              "            title=\"Suggest charts\"\n",
              "            style=\"display:none;\">\n",
              "\n",
              "<svg xmlns=\"http://www.w3.org/2000/svg\" height=\"24px\"viewBox=\"0 0 24 24\"\n",
              "     width=\"24px\">\n",
              "    <g>\n",
              "        <path d=\"M19 3H5c-1.1 0-2 .9-2 2v14c0 1.1.9 2 2 2h14c1.1 0 2-.9 2-2V5c0-1.1-.9-2-2-2zM9 17H7v-7h2v7zm4 0h-2V7h2v10zm4 0h-2v-4h2v4z\"/>\n",
              "    </g>\n",
              "</svg>\n",
              "  </button>\n",
              "\n",
              "<style>\n",
              "  .colab-df-quickchart {\n",
              "      --bg-color: #E8F0FE;\n",
              "      --fill-color: #1967D2;\n",
              "      --hover-bg-color: #E2EBFA;\n",
              "      --hover-fill-color: #174EA6;\n",
              "      --disabled-fill-color: #AAA;\n",
              "      --disabled-bg-color: #DDD;\n",
              "  }\n",
              "\n",
              "  [theme=dark] .colab-df-quickchart {\n",
              "      --bg-color: #3B4455;\n",
              "      --fill-color: #D2E3FC;\n",
              "      --hover-bg-color: #434B5C;\n",
              "      --hover-fill-color: #FFFFFF;\n",
              "      --disabled-bg-color: #3B4455;\n",
              "      --disabled-fill-color: #666;\n",
              "  }\n",
              "\n",
              "  .colab-df-quickchart {\n",
              "    background-color: var(--bg-color);\n",
              "    border: none;\n",
              "    border-radius: 50%;\n",
              "    cursor: pointer;\n",
              "    display: none;\n",
              "    fill: var(--fill-color);\n",
              "    height: 32px;\n",
              "    padding: 0;\n",
              "    width: 32px;\n",
              "  }\n",
              "\n",
              "  .colab-df-quickchart:hover {\n",
              "    background-color: var(--hover-bg-color);\n",
              "    box-shadow: 0 1px 2px rgba(60, 64, 67, 0.3), 0 1px 3px 1px rgba(60, 64, 67, 0.15);\n",
              "    fill: var(--button-hover-fill-color);\n",
              "  }\n",
              "\n",
              "  .colab-df-quickchart-complete:disabled,\n",
              "  .colab-df-quickchart-complete:disabled:hover {\n",
              "    background-color: var(--disabled-bg-color);\n",
              "    fill: var(--disabled-fill-color);\n",
              "    box-shadow: none;\n",
              "  }\n",
              "\n",
              "  .colab-df-spinner {\n",
              "    border: 2px solid var(--fill-color);\n",
              "    border-color: transparent;\n",
              "    border-bottom-color: var(--fill-color);\n",
              "    animation:\n",
              "      spin 1s steps(1) infinite;\n",
              "  }\n",
              "\n",
              "  @keyframes spin {\n",
              "    0% {\n",
              "      border-color: transparent;\n",
              "      border-bottom-color: var(--fill-color);\n",
              "      border-left-color: var(--fill-color);\n",
              "    }\n",
              "    20% {\n",
              "      border-color: transparent;\n",
              "      border-left-color: var(--fill-color);\n",
              "      border-top-color: var(--fill-color);\n",
              "    }\n",
              "    30% {\n",
              "      border-color: transparent;\n",
              "      border-left-color: var(--fill-color);\n",
              "      border-top-color: var(--fill-color);\n",
              "      border-right-color: var(--fill-color);\n",
              "    }\n",
              "    40% {\n",
              "      border-color: transparent;\n",
              "      border-right-color: var(--fill-color);\n",
              "      border-top-color: var(--fill-color);\n",
              "    }\n",
              "    60% {\n",
              "      border-color: transparent;\n",
              "      border-right-color: var(--fill-color);\n",
              "    }\n",
              "    80% {\n",
              "      border-color: transparent;\n",
              "      border-right-color: var(--fill-color);\n",
              "      border-bottom-color: var(--fill-color);\n",
              "    }\n",
              "    90% {\n",
              "      border-color: transparent;\n",
              "      border-bottom-color: var(--fill-color);\n",
              "    }\n",
              "  }\n",
              "</style>\n",
              "\n",
              "  <script>\n",
              "    async function quickchart(key) {\n",
              "      const quickchartButtonEl =\n",
              "        document.querySelector('#' + key + ' button');\n",
              "      quickchartButtonEl.disabled = true;  // To prevent multiple clicks.\n",
              "      quickchartButtonEl.classList.add('colab-df-spinner');\n",
              "      try {\n",
              "        const charts = await google.colab.kernel.invokeFunction(\n",
              "            'suggestCharts', [key], {});\n",
              "      } catch (error) {\n",
              "        console.error('Error during call to suggestCharts:', error);\n",
              "      }\n",
              "      quickchartButtonEl.classList.remove('colab-df-spinner');\n",
              "      quickchartButtonEl.classList.add('colab-df-quickchart-complete');\n",
              "    }\n",
              "    (() => {\n",
              "      let quickchartButtonEl =\n",
              "        document.querySelector('#df-9076e135-5156-462f-b498-d3e6f405349b button');\n",
              "      quickchartButtonEl.style.display =\n",
              "        google.colab.kernel.accessAllowed ? 'block' : 'none';\n",
              "    })();\n",
              "  </script>\n",
              "</div>\n",
              "\n",
              "    </div>\n",
              "  </div>\n"
            ],
            "application/vnd.google.colaboratory.intrinsic+json": {
              "type": "dataframe",
              "variable_name": "df2"
            }
          },
          "metadata": {},
          "execution_count": 9
        }
      ],
      "source": [
        "df2.head()"
      ]
    },
    {
      "cell_type": "code",
      "execution_count": null,
      "metadata": {
        "colab": {
          "base_uri": "https://localhost:8080/"
        },
        "id": "7hFi3g8yNHNc",
        "outputId": "e466fe50-f030-4ecc-f6b2-d341f0f45b3a"
      },
      "outputs": [
        {
          "output_type": "execute_result",
          "data": {
            "text/plain": [
              "(258888, 14)"
            ]
          },
          "metadata": {},
          "execution_count": 10
        }
      ],
      "source": [
        "df2.shape"
      ]
    },
    {
      "cell_type": "markdown",
      "metadata": {
        "id": "ckVomcBVNOWt"
      },
      "source": [
        "# **=> convert price datatype into float**"
      ]
    },
    {
      "cell_type": "code",
      "execution_count": null,
      "metadata": {
        "id": "OCNe11GnNHL5"
      },
      "outputs": [],
      "source": [
        "# Remove 'Rs' and commas from 'price', then convert to float\n",
        "import numpy as np\n",
        "df2['price'] = df2['price'].astype(str)\n",
        "df2['price'] = df2['price'].str.replace('Rs', '', regex=False).str.replace(',', '', regex=False)"
      ]
    },
    {
      "cell_type": "code",
      "execution_count": null,
      "metadata": {
        "id": "in0q4cgINHJN"
      },
      "outputs": [],
      "source": [
        "df2['price'] = df2['price'].apply(lambda x: np.nan if x == 'Negotiable' else float(x))"
      ]
    },
    {
      "cell_type": "markdown",
      "metadata": {
        "id": "y2Ok0uZJNU8i"
      },
      "source": [
        "# **=> find out ad's period**"
      ]
    },
    {
      "cell_type": "code",
      "execution_count": null,
      "metadata": {
        "id": "lO13F9ThNHH8"
      },
      "outputs": [],
      "source": [
        "# Convert columns to datetime format\n",
        "df2['posted_date'] = pd.to_datetime(df2['posted_date'])\n",
        "df2['deactivation_date'] = pd.to_datetime(df2['deactivation_date'])\n",
        "\n",
        "# Calculate date difference -- ignore time\n",
        "df2['date_diff'] = (df2['deactivation_date'] - df2['posted_date']).dt.days\n"
      ]
    },
    {
      "cell_type": "code",
      "execution_count": null,
      "metadata": {
        "id": "RomFGxX1NHG-"
      },
      "outputs": [],
      "source": [
        "list = [i for i in df2['date_diff'] if i < 0]"
      ]
    },
    {
      "cell_type": "code",
      "execution_count": null,
      "metadata": {
        "colab": {
          "base_uri": "https://localhost:8080/"
        },
        "id": "7ISDqrZENZ4v",
        "outputId": "a15b6d9f-00f5-4176-f7b7-60b033c4f68b"
      },
      "outputs": [
        {
          "output_type": "execute_result",
          "data": {
            "text/plain": [
              "16970"
            ]
          },
          "metadata": {},
          "execution_count": 15
        }
      ],
      "source": [
        "len(list)"
      ]
    },
    {
      "cell_type": "code",
      "execution_count": null,
      "metadata": {
        "id": "BlM2pS39NZ8C"
      },
      "outputs": [],
      "source": [
        "index_names = df2[df2['date_diff'] < 0].index\n",
        "df2.drop(index_names, inplace=True)"
      ]
    },
    {
      "cell_type": "code",
      "execution_count": null,
      "metadata": {
        "colab": {
          "base_uri": "https://localhost:8080/"
        },
        "id": "A0wgwuwcNZ9N",
        "outputId": "f0d69a8f-dd35-4321-8ab2-e125791b56e8"
      },
      "outputs": [
        {
          "output_type": "execute_result",
          "data": {
            "text/plain": [
              "(241918, 15)"
            ]
          },
          "metadata": {},
          "execution_count": 17
        }
      ],
      "source": [
        "df2.shape"
      ]
    },
    {
      "cell_type": "markdown",
      "metadata": {
        "id": "XSiT9ry7Nhnj"
      },
      "source": [
        "# **=> extract members year**"
      ]
    },
    {
      "cell_type": "code",
      "execution_count": null,
      "metadata": {
        "id": "B98EhGVYNaA7"
      },
      "outputs": [],
      "source": [
        "# Assuming df2 is your DataFrame\n",
        "df2['member_since'] = df2['member_since'].str.extract(r'(\\d{4})', expand=False)"
      ]
    },
    {
      "cell_type": "markdown",
      "metadata": {
        "id": "d8M0vBgJNptV"
      },
      "source": [
        "# **=> Convert member since into int**"
      ]
    },
    {
      "cell_type": "code",
      "execution_count": null,
      "metadata": {
        "colab": {
          "base_uri": "https://localhost:8080/"
        },
        "id": "esPU6nTdNmdU",
        "outputId": "3ebc3569-99d4-4456-edcf-d65f017f7a3d"
      },
      "outputs": [
        {
          "output_type": "execute_result",
          "data": {
            "text/plain": [
              "149895"
            ]
          },
          "metadata": {},
          "execution_count": 19
        }
      ],
      "source": [
        "df2['member_since'].isnull().sum()"
      ]
    },
    {
      "cell_type": "code",
      "execution_count": null,
      "metadata": {
        "id": "7msvJPpGNmfD"
      },
      "outputs": [],
      "source": [
        "# as the column 'member_since' contain 149895 null values ==> dropping the column will be aa good decision"
      ]
    },
    {
      "cell_type": "code",
      "execution_count": null,
      "metadata": {
        "id": "3sbSjB4oNmgL"
      },
      "outputs": [],
      "source": [
        "df2=df2.drop(columns=['member_since'],axis=1)"
      ]
    },
    {
      "cell_type": "markdown",
      "metadata": {
        "id": "VeNHWostNzbn"
      },
      "source": [
        "# **=> drop null values**"
      ]
    },
    {
      "cell_type": "code",
      "execution_count": null,
      "metadata": {
        "id": "ZH-rKJMaNmia"
      },
      "outputs": [],
      "source": [
        "# Handle missing values\n",
        "df2 = df2.dropna(subset=['type', 'price', 'timestamp', 'posted_date', 'deactivation_date',\n",
        "       'category', 'location', 'geo_region', 'area', 'is_member',\n",
        "       'is_verified', 'membership_level', 'properties',\n",
        "       'date_diff'])"
      ]
    },
    {
      "cell_type": "code",
      "source": [],
      "metadata": {
        "id": "3ShjA0LE_dsk"
      },
      "execution_count": null,
      "outputs": []
    },
    {
      "cell_type": "code",
      "execution_count": null,
      "metadata": {
        "colab": {
          "base_uri": "https://localhost:8080/"
        },
        "id": "_6Rp_VvXNmj-",
        "outputId": "be4cabf5-a838-45c4-cc92-0464801eab62"
      },
      "outputs": [
        {
          "output_type": "execute_result",
          "data": {
            "text/plain": [
              "(228475, 14)"
            ]
          },
          "metadata": {},
          "execution_count": 23
        }
      ],
      "source": [
        "df2.shape"
      ]
    },
    {
      "cell_type": "code",
      "execution_count": null,
      "metadata": {
        "colab": {
          "base_uri": "https://localhost:8080/",
          "height": 203
        },
        "id": "Qn53q-6GNmm3",
        "outputId": "e64d4291-ca9e-48b8-ab46-9d898fb85074"
      },
      "outputs": [
        {
          "output_type": "execute_result",
          "data": {
            "text/plain": [
              "<bound method NDFrame._add_numeric_operations.<locals>.sum of type                 0\n",
              "price                0\n",
              "timestamp            0\n",
              "posted_date          0\n",
              "deactivation_date    0\n",
              "category             0\n",
              "location             0\n",
              "geo_region           0\n",
              "area                 0\n",
              "is_member            0\n",
              "is_verified          0\n",
              "membership_level     0\n",
              "properties           0\n",
              "date_diff            0\n",
              "dtype: int64>"
            ],
            "text/html": [
              "<div style=\"max-width:800px; border: 1px solid var(--colab-border-color);\"><style>\n",
              "      pre.function-repr-contents {\n",
              "        overflow-x: auto;\n",
              "        padding: 8px 12px;\n",
              "        max-height: 500px;\n",
              "      }\n",
              "\n",
              "      pre.function-repr-contents.function-repr-contents-collapsed {\n",
              "        cursor: pointer;\n",
              "        max-height: 100px;\n",
              "      }\n",
              "    </style>\n",
              "    <pre style=\"white-space: initial; background:\n",
              "         var(--colab-secondary-surface-color); padding: 8px 12px;\n",
              "         border-bottom: 1px solid var(--colab-border-color);\"><b>pandas.core.generic.NDFrame._add_numeric_operations.&lt;locals&gt;.sum</b><br/>def sum(axis: Axis | None=None, skipna: bool_t=True, numeric_only: bool_t=False, min_count: int=0, **kwargs)</pre><pre class=\"function-repr-contents function-repr-contents-collapsed\" style=\"\"><a class=\"filepath\" style=\"display:none\" href=\"#\">/usr/local/lib/python3.10/dist-packages/pandas/core/generic.py</a>Return the sum of the values over the requested axis.\n",
              "\n",
              "This is equivalent to the method ``numpy.sum``.\n",
              "\n",
              "Parameters\n",
              "----------\n",
              "axis : {index (0)}\n",
              "    Axis for the function to be applied on.\n",
              "    For `Series` this parameter is unused and defaults to 0.\n",
              "\n",
              "    For DataFrames, specifying ``axis=None`` will apply the aggregation\n",
              "    across both axes.\n",
              "\n",
              "    .. versionadded:: 2.0.0\n",
              "\n",
              "skipna : bool, default True\n",
              "    Exclude NA/null values when computing the result.\n",
              "numeric_only : bool, default False\n",
              "    Include only float, int, boolean columns. Not implemented for Series.\n",
              "\n",
              "min_count : int, default 0\n",
              "    The required number of valid values to perform the operation. If fewer than\n",
              "    ``min_count`` non-NA values are present the result will be NA.\n",
              "**kwargs\n",
              "    Additional keyword arguments to be passed to the function.\n",
              "\n",
              "Returns\n",
              "-------\n",
              "scalar or scalar\n",
              "\n",
              "See Also\n",
              "--------\n",
              "Series.sum : Return the sum.\n",
              "Series.min : Return the minimum.\n",
              "Series.max : Return the maximum.\n",
              "Series.idxmin : Return the index of the minimum.\n",
              "Series.idxmax : Return the index of the maximum.\n",
              "DataFrame.sum : Return the sum over the requested axis.\n",
              "DataFrame.min : Return the minimum over the requested axis.\n",
              "DataFrame.max : Return the maximum over the requested axis.\n",
              "DataFrame.idxmin : Return the index of the minimum over the requested axis.\n",
              "DataFrame.idxmax : Return the index of the maximum over the requested axis.\n",
              "\n",
              "Examples\n",
              "--------\n",
              "&gt;&gt;&gt; idx = pd.MultiIndex.from_arrays([\n",
              "...     [&#x27;warm&#x27;, &#x27;warm&#x27;, &#x27;cold&#x27;, &#x27;cold&#x27;],\n",
              "...     [&#x27;dog&#x27;, &#x27;falcon&#x27;, &#x27;fish&#x27;, &#x27;spider&#x27;]],\n",
              "...     names=[&#x27;blooded&#x27;, &#x27;animal&#x27;])\n",
              "&gt;&gt;&gt; s = pd.Series([4, 2, 0, 8], name=&#x27;legs&#x27;, index=idx)\n",
              "&gt;&gt;&gt; s\n",
              "blooded  animal\n",
              "warm     dog       4\n",
              "         falcon    2\n",
              "cold     fish      0\n",
              "         spider    8\n",
              "Name: legs, dtype: int64\n",
              "\n",
              "&gt;&gt;&gt; s.sum()\n",
              "14\n",
              "\n",
              "By default, the sum of an empty or all-NA Series is ``0``.\n",
              "\n",
              "&gt;&gt;&gt; pd.Series([], dtype=&quot;float64&quot;).sum()  # min_count=0 is the default\n",
              "0.0\n",
              "\n",
              "This can be controlled with the ``min_count`` parameter. For example, if\n",
              "you&#x27;d like the sum of an empty series to be NaN, pass ``min_count=1``.\n",
              "\n",
              "&gt;&gt;&gt; pd.Series([], dtype=&quot;float64&quot;).sum(min_count=1)\n",
              "nan\n",
              "\n",
              "Thanks to the ``skipna`` parameter, ``min_count`` handles all-NA and\n",
              "empty series identically.\n",
              "\n",
              "&gt;&gt;&gt; pd.Series([np.nan]).sum()\n",
              "0.0\n",
              "\n",
              "&gt;&gt;&gt; pd.Series([np.nan]).sum(min_count=1)\n",
              "nan</pre>\n",
              "      <script>\n",
              "      if (google.colab.kernel.accessAllowed && google.colab.files && google.colab.files.view) {\n",
              "        for (const element of document.querySelectorAll('.filepath')) {\n",
              "          element.style.display = 'block'\n",
              "          element.onclick = (event) => {\n",
              "            event.preventDefault();\n",
              "            event.stopPropagation();\n",
              "            google.colab.files.view(element.textContent, 11493);\n",
              "          };\n",
              "        }\n",
              "      }\n",
              "      for (const element of document.querySelectorAll('.function-repr-contents')) {\n",
              "        element.onclick = (event) => {\n",
              "          event.preventDefault();\n",
              "          event.stopPropagation();\n",
              "          element.classList.toggle('function-repr-contents-collapsed');\n",
              "        };\n",
              "      }\n",
              "      </script>\n",
              "      </div>"
            ]
          },
          "metadata": {},
          "execution_count": 24
        }
      ],
      "source": [
        "df2.isnull().sum().sum"
      ]
    },
    {
      "cell_type": "code",
      "execution_count": null,
      "metadata": {
        "colab": {
          "base_uri": "https://localhost:8080/"
        },
        "id": "87I_8No-OAh3",
        "outputId": "cf268993-963a-4b7d-a8bf-11d53fe79eac"
      },
      "outputs": [
        {
          "output_type": "stream",
          "name": "stdout",
          "text": [
            "<class 'pandas.core.frame.DataFrame'>\n",
            "Index: 228475 entries, 7590 to 258887\n",
            "Data columns (total 14 columns):\n",
            " #   Column             Non-Null Count   Dtype                    \n",
            "---  ------             --------------   -----                    \n",
            " 0   type               228475 non-null  object                   \n",
            " 1   price              228475 non-null  float64                  \n",
            " 2   timestamp          228475 non-null  object                   \n",
            " 3   posted_date        228475 non-null  datetime64[ns, UTC+05:30]\n",
            " 4   deactivation_date  228475 non-null  datetime64[ns, UTC]      \n",
            " 5   category           228475 non-null  object                   \n",
            " 6   location           228475 non-null  object                   \n",
            " 7   geo_region         228475 non-null  object                   \n",
            " 8   area               228475 non-null  object                   \n",
            " 9   is_member          228475 non-null  object                   \n",
            " 10  is_verified        228475 non-null  bool                     \n",
            " 11  membership_level   228475 non-null  object                   \n",
            " 12  properties         228475 non-null  object                   \n",
            " 13  date_diff          228475 non-null  float64                  \n",
            "dtypes: bool(1), datetime64[ns, UTC+05:30](1), datetime64[ns, UTC](1), float64(2), object(9)\n",
            "memory usage: 24.6+ MB\n"
          ]
        }
      ],
      "source": [
        "df2.info()"
      ]
    },
    {
      "cell_type": "markdown",
      "metadata": {
        "id": "iZH4soJeOFH_"
      },
      "source": [
        "# **=> Brand from properties**"
      ]
    },
    {
      "cell_type": "code",
      "execution_count": null,
      "metadata": {
        "id": "xHxmOIldOAjp"
      },
      "outputs": [],
      "source": [
        "import ast\n",
        "dict_df=df2[\"properties\"].apply(pd.Series)"
      ]
    },
    {
      "cell_type": "code",
      "execution_count": null,
      "metadata": {
        "id": "shOgvNqPOAmj",
        "colab": {
          "base_uri": "https://localhost:8080/"
        },
        "outputId": "f390bc99-df86-4c06-ca7c-2d3348d352c5"
      },
      "outputs": [
        {
          "output_type": "execute_result",
          "data": {
            "text/plain": [
              "7590    {'Brand': 'Nissan', 'Model': 'Patrol', 'Trim /...\n",
              "7606    {'Brand': 'Toyota', 'Model': 'Camry', 'Trim / ...\n",
              "7623    {'Brand': 'Toyota', 'Model': 'Aqua', 'Trim / E...\n",
              "7638    {'Brand': 'Mercedes Benz', 'Model': 'E350', 'T...\n",
              "7639    {'Brand': 'Mitsubishi', 'Model': 'L200', 'Trim...\n",
              "Name: properties, dtype: object"
            ]
          },
          "metadata": {},
          "execution_count": 27
        }
      ],
      "source": [
        "df2['properties'].head()"
      ]
    },
    {
      "cell_type": "code",
      "execution_count": null,
      "metadata": {
        "id": "5bCzni7AOKIE",
        "colab": {
          "base_uri": "https://localhost:8080/"
        },
        "outputId": "9ed2b2d8-5222-4290-f39f-8a10d68190e4"
      },
      "outputs": [
        {
          "output_type": "stream",
          "name": "stdout",
          "text": [
            "{'Brand': 'Toyota', 'Model': 'Aqua', 'Trim / Edition': 'Toyota', 'Year of Manufacture': '2012', 'Condition': 'Used', 'Transmission': 'Automatic', 'Body type': 'Hatchback', 'Fuel type': 'Hybrid', 'Engine capacity': '1,500 cc', 'Mileage': '177,000 km'}\n"
          ]
        }
      ],
      "source": [
        "dict_converted = ast.literal_eval(dict_df.iloc[2][0])\n",
        "print(dict_converted)"
      ]
    },
    {
      "cell_type": "code",
      "execution_count": null,
      "metadata": {
        "id": "eYydpZXaOKL-"
      },
      "outputs": [],
      "source": [
        "Brand=[]\n",
        "for i in range(dict_df.shape[0]):\n",
        "    dict_converted = ast.literal_eval(dict_df.iloc[i][0])\n",
        "\n",
        "    if 'Brand' not in dict_converted:\n",
        "        Brand.append('NaN')\n",
        "    else:\n",
        "        Brand.append(dict_converted['Brand'])"
      ]
    },
    {
      "cell_type": "code",
      "execution_count": null,
      "metadata": {
        "id": "UzcKBV7XOKO1"
      },
      "outputs": [],
      "source": [
        "df2['Brand'] = Brand"
      ]
    },
    {
      "cell_type": "code",
      "execution_count": null,
      "metadata": {
        "colab": {
          "base_uri": "https://localhost:8080/"
        },
        "id": "cIW929_AOQTh",
        "outputId": "f423d0ca-37c0-44e9-dd51-a8eb677903d0"
      },
      "outputs": [
        {
          "output_type": "execute_result",
          "data": {
            "text/plain": [
              "(228475, 15)"
            ]
          },
          "metadata": {},
          "execution_count": 31
        }
      ],
      "source": [
        "df2.shape"
      ]
    },
    {
      "cell_type": "code",
      "execution_count": null,
      "metadata": {
        "id": "cIhvVdj2OQU4"
      },
      "outputs": [],
      "source": [
        "#  Replace NaN VALUE with actual numpy nana value\n",
        "df2['Brand'].replace('NaN', np.nan, inplace=True)"
      ]
    },
    {
      "cell_type": "code",
      "execution_count": null,
      "metadata": {
        "id": "kv21kaqYOQZ3",
        "colab": {
          "base_uri": "https://localhost:8080/"
        },
        "outputId": "0c6a7735-6d80-4cae-af20-8c7960a75e34"
      },
      "outputs": [
        {
          "output_type": "execute_result",
          "data": {
            "text/plain": [
              "50296"
            ]
          },
          "metadata": {},
          "execution_count": 33
        }
      ],
      "source": [
        "df2['Brand'].isnull().sum()"
      ]
    },
    {
      "cell_type": "code",
      "execution_count": null,
      "metadata": {
        "id": "2XdJINCnOQbp"
      },
      "outputs": [],
      "source": [
        "# Remove rows with NaN values in the 'Brand' column\n",
        "df2 = df2.dropna(subset=['Brand'])"
      ]
    },
    {
      "cell_type": "code",
      "execution_count": null,
      "metadata": {
        "id": "30ZjrsepOQfM",
        "colab": {
          "base_uri": "https://localhost:8080/"
        },
        "outputId": "c53a4a72-b2ad-4b1d-e60a-285d11a7368b"
      },
      "outputs": [
        {
          "output_type": "execute_result",
          "data": {
            "text/plain": [
              "(178179, 15)"
            ]
          },
          "metadata": {},
          "execution_count": 35
        }
      ],
      "source": [
        "df2.shape"
      ]
    },
    {
      "cell_type": "code",
      "execution_count": null,
      "metadata": {
        "id": "FIOroMZEOluE"
      },
      "outputs": [],
      "source": [
        "#  Removes rows\n",
        "brand_counts = df2['Brand'].value_counts()\n",
        "df2 = df2[df2['Brand'].isin(brand_counts[brand_counts >= 1000].index)]"
      ]
    },
    {
      "cell_type": "code",
      "execution_count": null,
      "metadata": {
        "id": "B4Wnr2MhOlxX",
        "colab": {
          "base_uri": "https://localhost:8080/"
        },
        "outputId": "bfc7ecaf-9112-405f-fb1f-85d6933bd0e0"
      },
      "outputs": [
        {
          "output_type": "execute_result",
          "data": {
            "text/plain": [
              "Brand\n",
              "Bajaj            36240\n",
              "Toyota           21277\n",
              "Honda            20967\n",
              "Suzuki           12500\n",
              "Yamaha            8542\n",
              "TVS               8352\n",
              "Nissan            7822\n",
              "Hero              6921\n",
              "Other             5166\n",
              "Mitsubishi        5075\n",
              "Other brand       4915\n",
              "Tata              3658\n",
              "Mahindra          2612\n",
              "Isuzu             2329\n",
              "Lumala            1815\n",
              "BMW               1543\n",
              "Demak             1529\n",
              "Mazda             1527\n",
              "Mercedes Benz     1471\n",
              "Daihatsu          1305\n",
              "Micro             1267\n",
              "Tomahawk          1178\n",
              "Kia               1139\n",
              "Hyundai           1128\n",
              "Name: count, dtype: int64"
            ]
          },
          "metadata": {},
          "execution_count": 37
        }
      ],
      "source": [
        "df2['Brand'].value_counts()"
      ]
    },
    {
      "cell_type": "markdown",
      "metadata": {
        "id": "vZQ6xJ2SOuDM"
      },
      "source": [
        "# **=> Encode categorical variables**"
      ]
    },
    {
      "cell_type": "code",
      "execution_count": null,
      "metadata": {
        "id": "PJHPFwYaOlyz",
        "colab": {
          "base_uri": "https://localhost:8080/"
        },
        "outputId": "5d05e0d5-46a3-422a-bdd3-7dc194cb3efd"
      },
      "outputs": [
        {
          "output_type": "stream",
          "name": "stderr",
          "text": [
            "<ipython-input-38-7e66a49f4ea3>:2: SettingWithCopyWarning: \n",
            "A value is trying to be set on a copy of a slice from a DataFrame.\n",
            "Try using .loc[row_indexer,col_indexer] = value instead\n",
            "\n",
            "See the caveats in the documentation: https://pandas.pydata.org/pandas-docs/stable/user_guide/indexing.html#returning-a-view-versus-a-copy\n",
            "  df2['category'] = label_encoder.fit_transform(df2['category'])\n",
            "<ipython-input-38-7e66a49f4ea3>:3: SettingWithCopyWarning: \n",
            "A value is trying to be set on a copy of a slice from a DataFrame.\n",
            "Try using .loc[row_indexer,col_indexer] = value instead\n",
            "\n",
            "See the caveats in the documentation: https://pandas.pydata.org/pandas-docs/stable/user_guide/indexing.html#returning-a-view-versus-a-copy\n",
            "  df2['is_member'] = label_encoder.fit_transform(df2['is_member'])\n",
            "<ipython-input-38-7e66a49f4ea3>:4: SettingWithCopyWarning: \n",
            "A value is trying to be set on a copy of a slice from a DataFrame.\n",
            "Try using .loc[row_indexer,col_indexer] = value instead\n",
            "\n",
            "See the caveats in the documentation: https://pandas.pydata.org/pandas-docs/stable/user_guide/indexing.html#returning-a-view-versus-a-copy\n",
            "  df2['location'] = label_encoder.fit_transform(df2['location'])\n",
            "<ipython-input-38-7e66a49f4ea3>:5: SettingWithCopyWarning: \n",
            "A value is trying to be set on a copy of a slice from a DataFrame.\n",
            "Try using .loc[row_indexer,col_indexer] = value instead\n",
            "\n",
            "See the caveats in the documentation: https://pandas.pydata.org/pandas-docs/stable/user_guide/indexing.html#returning-a-view-versus-a-copy\n",
            "  df2['geo_region'] = label_encoder.fit_transform(df2['geo_region'])\n",
            "<ipython-input-38-7e66a49f4ea3>:6: SettingWithCopyWarning: \n",
            "A value is trying to be set on a copy of a slice from a DataFrame.\n",
            "Try using .loc[row_indexer,col_indexer] = value instead\n",
            "\n",
            "See the caveats in the documentation: https://pandas.pydata.org/pandas-docs/stable/user_guide/indexing.html#returning-a-view-versus-a-copy\n",
            "  df2['area'] = label_encoder.fit_transform(df2['area'])\n"
          ]
        }
      ],
      "source": [
        "label_encoder = LabelEncoder()\n",
        "df2['category'] = label_encoder.fit_transform(df2['category'])\n",
        "df2['is_member'] = label_encoder.fit_transform(df2['is_member'])\n",
        "df2['location'] = label_encoder.fit_transform(df2['location'])\n",
        "df2['geo_region'] = label_encoder.fit_transform(df2['geo_region'])\n",
        "df2['area'] = label_encoder.fit_transform(df2['area'])\n",
        "df2['Brand'] = label_encoder.fit_transform(df2['Brand'])\n",
        "df2['is_verified'] = label_encoder.fit_transform(df2['is_verified'])\n",
        "df2['membership_level'] = label_encoder.fit_transform(df2['membership_level'])"
      ]
    },
    {
      "cell_type": "markdown",
      "metadata": {
        "id": "2_rhASm3O3J5"
      },
      "source": [
        "\n",
        "# **FEATURE SELECTION**\n",
        "1. PCA\n",
        "2. Perform PCA with full number of components\n",
        "3. Determine the number of principal components to retain\n",
        "FEATURE SELECTION\n",
        "PCA\n",
        "Perform PCA with full number of components\n",
        "Determine the number of principal components to retain"
      ]
    },
    {
      "cell_type": "code",
      "execution_count": null,
      "metadata": {
        "id": "VXCSg8LBO63W"
      },
      "outputs": [],
      "source": [
        "# Feature Selection\n",
        "# Use PCA to reduce dimensionality\n",
        "num_col = df2.select_dtypes(include=['int32', 'float64']).columns\n",
        "X = df2[num_col]\n",
        "scaler = StandardScaler()\n",
        "X_scaled = scaler.fit_transform(X)"
      ]
    },
    {
      "cell_type": "code",
      "source": [],
      "metadata": {
        "id": "330vLFvpnDG0"
      },
      "execution_count": null,
      "outputs": []
    },
    {
      "cell_type": "code",
      "execution_count": null,
      "metadata": {
        "id": "EiKlWhrhO8CJ",
        "colab": {
          "base_uri": "https://localhost:8080/"
        },
        "outputId": "0a4920f4-58a9-4967-ce28-83a2230f1062"
      },
      "outputs": [
        {
          "output_type": "stream",
          "name": "stdout",
          "text": [
            "Explained Variance Ratio: [0.52297201 0.47702799]\n"
          ]
        }
      ],
      "source": [
        "# Perform PCA with full number of components\n",
        "pca = PCA()\n",
        "pca.fit(X_scaled)\n",
        "explained_variance_ratio = pca.explained_variance_ratio_\n",
        "print(f\"Explained Variance Ratio: {explained_variance_ratio}\")"
      ]
    },
    {
      "cell_type": "code",
      "execution_count": null,
      "metadata": {
        "id": "AfzDrYAeO8FJ",
        "colab": {
          "base_uri": "https://localhost:8080/"
        },
        "outputId": "ad20a16b-f4cf-4b63-85c5-eee603cfe390"
      },
      "outputs": [
        {
          "output_type": "stream",
          "name": "stdout",
          "text": [
            "Number of principal components retained: 2\n"
          ]
        }
      ],
      "source": [
        "# Determine the number of principal components to retain\n",
        "cumulative_variance = np.cumsum(explained_variance_ratio)\n",
        "n_components_retained = np.argmax(cumulative_variance >= 0.98) + 1\n",
        "print(f\"Number of principal components retained: {n_components_retained}\")"
      ]
    },
    {
      "cell_type": "code",
      "execution_count": null,
      "metadata": {
        "id": "PjDgdBlZO8Gg"
      },
      "outputs": [],
      "source": [
        "# Transform the data using the retained principal components\n",
        "X_pca = X_scaled @ pca.components_[:n_components_retained].T"
      ]
    },
    {
      "cell_type": "code",
      "execution_count": null,
      "metadata": {
        "id": "k-7yI-_8O8IQ",
        "colab": {
          "base_uri": "https://localhost:8080/"
        },
        "outputId": "ad15a656-26cb-4cff-c2c8-8ac6009f39d1"
      },
      "outputs": [
        {
          "output_type": "execute_result",
          "data": {
            "text/plain": [
              "array([[11.08292595, -8.06946849],\n",
              "       [ 8.89838251, -8.01093947],\n",
              "       [10.0382588 , -9.48798105],\n",
              "       ...,\n",
              "       [-0.03722723,  0.2503397 ],\n",
              "       [ 0.12238105,  0.78379339],\n",
              "       [-0.35706596, -0.06949903]])"
            ]
          },
          "metadata": {},
          "execution_count": 43
        }
      ],
      "source": [
        "X_pca\n"
      ]
    },
    {
      "cell_type": "code",
      "source": [
        "\n",
        "\n",
        "# PCA\n",
        "# Perform PCA with full number of components\n",
        "pca = PCA()\n",
        "pca.fit(X_scaled)\n",
        "\n",
        "# Determine the number of principal components to retain\n",
        "explained_variance_ratio = pca.explained_variance_ratio_\n",
        "cumulative_variance = np.cumsum(explained_variance_ratio)\n",
        "n_components_retained = np.argmax(cumulative_variance >= 0.98) + 1\n",
        "\n",
        "# Transform the data using the retained principal components\n",
        "X_pca = X_scaled @ pca.components_[:n_components_retained].T\n",
        "\n",
        "# Your code is correct. You have performed PCA with the full number of components, determined the number of principal components to retain based on a desired cumulative variance threshold (98% in this case), and transformed the data using the retained principal components.\n"
      ],
      "metadata": {
        "id": "YQZd3QY3nJmO"
      },
      "execution_count": null,
      "outputs": []
    },
    {
      "cell_type": "code",
      "execution_count": null,
      "metadata": {
        "id": "pV7DgQiZPYH4"
      },
      "outputs": [],
      "source": [
        "# # Split data into training and testing sets\n",
        "# X_train, X_test, y_train, y_test = train_test_split(X, y, test_size=0.2, random_state=42)\n",
        "\n",
        "# # Define the range of possible numbers of components\n",
        "# n_components = range(1, 11)\n",
        "\n",
        "# # Initialize lists to store the performance metrics\n",
        "# reconstruction_errors = []\n",
        "# explained_variance_ratios = []\n",
        "\n",
        "# for n in n_components:\n",
        "#     pca = PCA(n_components=n)\n",
        "#     X_pca = pca.fit_transform(X_train)\n",
        "#     X_reconstructed = pca.inverse_transform(X_pca)\n",
        "\n",
        "#     # Calculate reconstruction error\n",
        "#     reconstruction_error = np.mean((X_train - X_reconstructed) ** 2)\n",
        "#     reconstruction_errors.append(reconstruction_error)\n",
        "\n",
        "#     # Calculate explained variance ratio\n",
        "#     explained_variance_ratio = pca.explained_variance_ratio_.sum()\n",
        "#     explained_variance_ratios.append(explained_variance_ratio)\n",
        "\n",
        "# # Perform cross-validation\n",
        "# k = 5\n",
        "# scores_reconstruction = []\n",
        "# scores_explained_variance = []\n",
        "\n",
        "# for n in n_components:\n",
        "#     scores_reconstruction.append(cross_val_score(PCA(n_components=n), X_train, cv=k, scoring='neg_mean_squared_error'))\n",
        "#     scores_explained_variance.append(cross_val_score(PCA(n_components=n), X_train, cv=k, scoring='explained_variance_ratio'))\n",
        "\n",
        "# # Plot the results\n",
        "# import matplotlib.pyplot as plt\n",
        "\n",
        "# plt.plot(n_components, reconstruction_errors)\n",
        "# plt.xlabel('Number of Components')\n",
        "# plt.ylabel('Reconstruction Error')\n",
        "# plt.title('Reconstruction Error vs. Number of Components')\n",
        "# plt.show()\n",
        "\n",
        "# plt.plot(n_components, explained_variance_ratios)\n",
        "# plt.xlabel('Number of Components')\n",
        "# plt.ylabel('Explained Variance Ratio')\n",
        "# plt.title('Explained Variance Ratio vs. Number of Components')\n",
        "# plt.show()"
      ]
    },
    {
      "cell_type": "code",
      "execution_count": null,
      "metadata": {
        "colab": {
          "base_uri": "https://localhost:8080/"
        },
        "id": "J7BdDXLXPYJT",
        "outputId": "a7fdde1a-7c16-48bf-bac1-7d7f89a560eb"
      },
      "outputs": [
        {
          "output_type": "stream",
          "name": "stderr",
          "text": [
            "/usr/local/lib/python3.10/dist-packages/sklearn/cluster/_kmeans.py:870: FutureWarning: The default value of `n_init` will change from 10 to 'auto' in 1.4. Set the value of `n_init` explicitly to suppress the warning\n",
            "  warnings.warn(\n",
            "/usr/local/lib/python3.10/dist-packages/sklearn/cluster/_kmeans.py:870: FutureWarning: The default value of `n_init` will change from 10 to 'auto' in 1.4. Set the value of `n_init` explicitly to suppress the warning\n",
            "  warnings.warn(\n",
            "/usr/local/lib/python3.10/dist-packages/sklearn/cluster/_kmeans.py:870: FutureWarning: The default value of `n_init` will change from 10 to 'auto' in 1.4. Set the value of `n_init` explicitly to suppress the warning\n",
            "  warnings.warn(\n",
            "/usr/local/lib/python3.10/dist-packages/sklearn/cluster/_kmeans.py:870: FutureWarning: The default value of `n_init` will change from 10 to 'auto' in 1.4. Set the value of `n_init` explicitly to suppress the warning\n",
            "  warnings.warn(\n",
            "/usr/local/lib/python3.10/dist-packages/sklearn/cluster/_kmeans.py:870: FutureWarning: The default value of `n_init` will change from 10 to 'auto' in 1.4. Set the value of `n_init` explicitly to suppress the warning\n",
            "  warnings.warn(\n",
            "/usr/local/lib/python3.10/dist-packages/sklearn/cluster/_kmeans.py:870: FutureWarning: The default value of `n_init` will change from 10 to 'auto' in 1.4. Set the value of `n_init` explicitly to suppress the warning\n",
            "  warnings.warn(\n",
            "/usr/local/lib/python3.10/dist-packages/sklearn/cluster/_kmeans.py:870: FutureWarning: The default value of `n_init` will change from 10 to 'auto' in 1.4. Set the value of `n_init` explicitly to suppress the warning\n",
            "  warnings.warn(\n",
            "/usr/local/lib/python3.10/dist-packages/sklearn/cluster/_kmeans.py:870: FutureWarning: The default value of `n_init` will change from 10 to 'auto' in 1.4. Set the value of `n_init` explicitly to suppress the warning\n",
            "  warnings.warn(\n",
            "/usr/local/lib/python3.10/dist-packages/sklearn/cluster/_kmeans.py:870: FutureWarning: The default value of `n_init` will change from 10 to 'auto' in 1.4. Set the value of `n_init` explicitly to suppress the warning\n",
            "  warnings.warn(\n"
          ]
        }
      ],
      "source": [
        "# Clustering\n",
        "# Apply K-means clustering\n",
        "\n",
        "\n",
        "sil_scores = []\n",
        "ch_scores = []\n",
        "db_scores = []\n",
        "for n_clusters in range(2, 11):\n",
        "    kmeans = KMeans(n_clusters=n_clusters, random_state=42)\n",
        "    labels = kmeans.fit_predict(X_pca)\n",
        "    sil_score = silhouette_score(X_pca, labels)\n",
        "    ch_score = calinski_harabasz_score(X_pca, labels)\n",
        "    db_score = davies_bouldin_score(X_pca, labels)\n",
        "    sil_scores.append(sil_score)\n",
        "    ch_scores.append(ch_score)\n",
        "    db_scores.append(db_score)"
      ]
    },
    {
      "cell_type": "code",
      "source": [],
      "metadata": {
        "id": "vCcrIj4dnlZe"
      },
      "execution_count": null,
      "outputs": []
    },
    {
      "cell_type": "code",
      "source": [],
      "metadata": {
        "id": "K-D6Kqu2otQn"
      },
      "execution_count": null,
      "outputs": []
    },
    {
      "cell_type": "code",
      "execution_count": null,
      "metadata": {
        "id": "CH617iOdPYNM",
        "colab": {
          "base_uri": "https://localhost:8080/",
          "height": 564
        },
        "outputId": "35a39798-e784-46e2-b3d0-74ff005582f9"
      },
      "outputs": [
        {
          "output_type": "display_data",
          "data": {
            "text/plain": [
              "<Figure size 800x600 with 1 Axes>"
            ],
            "image/png": "[encoded data removed]"
          },
          "metadata": {}
        }
      ],
      "source": [
        "# Elbow method to determine the optimal number of clusters\n",
        "plt.figure(figsize=(8, 6))\n",
        "plt.plot(range(2, 11), sil_scores, label='Silhouette Score')\n",
        "plt.plot(range(2, 11), ch_scores, label='Calinski-Harabasz Score')\n",
        "plt.plot(range(2, 11), db_scores, label='Davies-Bouldin Score')\n",
        "plt.xlabel('Number of clusters')\n",
        "plt.ylabel('Score')\n",
        "plt.title('Elbow Method')\n",
        "plt.legend()\n",
        "plt.show()"
      ]
    },
    {
      "cell_type": "code",
      "execution_count": null,
      "metadata": {
        "id": "wcnyqxQSPYQE",
        "colab": {
          "base_uri": "https://localhost:8080/"
        },
        "outputId": "265fea70-7b2d-46f2-98f4-3f809c0b31e9"
      },
      "outputs": [
        {
          "output_type": "stream",
          "name": "stdout",
          "text": [
            "Optimal number of clusters: 2\n"
          ]
        }
      ],
      "source": [
        "# Select the optimal number of clusters based on the Elbow method\n",
        "optimal_clusters = sil_scores.index(max(sil_scores)) + 2\n",
        "print(f\"Optimal number of clusters: {optimal_clusters}\")"
      ]
    },
    {
      "cell_type": "code",
      "execution_count": null,
      "metadata": {
        "id": "q0LLYv-hO8MW",
        "colab": {
          "base_uri": "https://localhost:8080/"
        },
        "outputId": "f694dbf8-9b6a-4cfc-b703-9b520e23a7dd"
      },
      "outputs": [
        {
          "output_type": "stream",
          "name": "stderr",
          "text": [
            "/usr/local/lib/python3.10/dist-packages/sklearn/cluster/_kmeans.py:870: FutureWarning: The default value of `n_init` will change from 10 to 'auto' in 1.4. Set the value of `n_init` explicitly to suppress the warning\n",
            "  warnings.warn(\n"
          ]
        }
      ],
      "source": [
        "# Apply K-means with the optimal number of clusters\n",
        "kmeans = KMeans(n_clusters=optimal_clusters, random_state=42)\n",
        "labels = kmeans.fit_predict(X_pca)\n"
      ]
    },
    {
      "cell_type": "code",
      "source": [
        "df2['cluster'] = labels"
      ],
      "metadata": {
        "id": "cEZC3fmMkoag"
      },
      "execution_count": null,
      "outputs": []
    },
    {
      "cell_type": "code",
      "execution_count": null,
      "metadata": {
        "id": "YrsP16kcPhmr",
        "colab": {
          "base_uri": "https://localhost:8080/",
          "height": 718
        },
        "outputId": "517ff6a5-ceaf-4eb8-fcb1-6783f6e1da95"
      },
      "outputs": [
        {
          "output_type": "display_data",
          "data": {
            "text/plain": [
              "<Figure size 1000x800 with 1 Axes>"
            ],
            "image/png": "[encoded data removed]"
          },
          "metadata": {}
        }
      ],
      "source": [
        "# Cluster Analysis\n",
        "# Visualize the clusters\n",
        "plt.figure(figsize=(10, 8))\n",
        "plt.scatter(X_pca[:, 0], X_pca[:, 1], c=df2['cluster'], cmap='viridis')\n",
        "plt.xlabel('Principal Component 1')\n",
        "plt.ylabel('Principal Component 2')\n",
        "plt.title('Clusters')\n",
        "plt.show()"
      ]
    },
    {
      "cell_type": "code",
      "execution_count": null,
      "metadata": {
        "id": "JH8a_pgzPhpf",
        "colab": {
          "base_uri": "https://localhost:8080/"
        },
        "outputId": "886feba4-fe09-4d36-dfbc-b245816bff9a"
      },
      "outputs": [
        {
          "output_type": "stream",
          "name": "stdout",
          "text": [
            "Cluster 0:\n",
            "              price       category       location     geo_region  \\\n",
            "count  1.572670e+05  157267.000000  157267.000000  157267.000000   \n",
            "mean   2.350122e+06       4.613644     104.054309       4.855361   \n",
            "std    5.011264e+06       2.404338      54.157327       6.046693   \n",
            "min    1.000000e+00       0.000000       0.000000       0.000000   \n",
            "25%    1.800000e+05       3.000000      64.000000       1.000000   \n",
            "50%    5.100000e+05       6.000000     107.000000       2.000000   \n",
            "75%    2.625000e+06       6.000000     150.000000       7.000000   \n",
            "max    2.100000e+08       9.000000     203.000000      20.000000   \n",
            "\n",
            "                area      is_member    is_verified  membership_level  \\\n",
            "count  157267.000000  157267.000000  157267.000000     157267.000000   \n",
            "mean        7.863392       0.274972       0.176483          0.505510   \n",
            "std         5.477862       0.446502       0.381232          0.839482   \n",
            "min         0.000000       0.000000       0.000000          0.000000   \n",
            "25%         4.000000       0.000000       0.000000          0.000000   \n",
            "50%         6.000000       0.000000       0.000000          0.000000   \n",
            "75%        10.000000       1.000000       0.000000          1.000000   \n",
            "max        24.000000       1.000000       1.000000          2.000000   \n",
            "\n",
            "           date_diff          Brand   cluster  \n",
            "count  157267.000000  157267.000000  157267.0  \n",
            "mean       58.694170      11.196150       0.0  \n",
            "std         1.129202       8.303981       0.0  \n",
            "min        47.000000       0.000000       0.0  \n",
            "25%        59.000000       3.000000       0.0  \n",
            "50%        59.000000      12.000000       0.0  \n",
            "75%        59.000000      19.000000       0.0  \n",
            "max        60.000000      23.000000       0.0  \n",
            "\n",
            "Cluster 1:\n",
            "              price     category     location   geo_region         area  \\\n",
            "count  3.011000e+03  3011.000000  3011.000000  3011.000000  3011.000000   \n",
            "mean   5.658412e+06     4.411159   104.874128     4.588841     7.934905   \n",
            "std    4.138158e+07     2.140341    55.480957     5.905709     5.281424   \n",
            "min    8.500000e+02     0.000000     0.000000     0.000000     0.000000   \n",
            "25%    9.500000e+05     3.000000    61.000000     1.000000     4.000000   \n",
            "50%    3.650000e+06     3.000000   111.000000     2.000000     6.000000   \n",
            "75%    5.900000e+06     6.000000   153.000000     6.000000    10.000000   \n",
            "max    1.980000e+09     9.000000   203.000000    20.000000    24.000000   \n",
            "\n",
            "         is_member  is_verified  membership_level    date_diff        Brand  \\\n",
            "count  3011.000000  3011.000000       3011.000000  3011.000000  3011.000000   \n",
            "mean      0.098638     0.054467          0.173696    34.027898    13.771504   \n",
            "std       0.298225     0.226974          0.538904     9.908714     7.499962   \n",
            "min       0.000000     0.000000          0.000000     0.000000     0.000000   \n",
            "25%       0.000000     0.000000          0.000000    29.000000     5.000000   \n",
            "50%       0.000000     0.000000          0.000000    36.000000    15.000000   \n",
            "75%       0.000000     0.000000          0.000000    41.000000    22.000000   \n",
            "max       1.000000     1.000000          2.000000    59.000000    23.000000   \n",
            "\n",
            "       cluster  \n",
            "count   3011.0  \n",
            "mean       1.0  \n",
            "std        0.0  \n",
            "min        1.0  \n",
            "25%        1.0  \n",
            "50%        1.0  \n",
            "75%        1.0  \n",
            "max        1.0  \n",
            "\n"
          ]
        }
      ],
      "source": [
        "# Describe the characteristics of each cluster\n",
        "for cluster in range(optimal_clusters):\n",
        "    print(f\"Cluster {cluster}:\")\n",
        "    print(df2[df2['cluster'] == cluster].describe())\n",
        "    print()"
      ]
    }
  ],
  "metadata": {
    "colab": {
      "provenance": [],
      "toc_visible": true
    },
    "kernelspec": {
      "display_name": "Python 3",
      "name": "python3"
    },
    "language_info": {
      "name": "python"
    }
  },
  "nbformat": 4,
  "nbformat_minor": 0
}